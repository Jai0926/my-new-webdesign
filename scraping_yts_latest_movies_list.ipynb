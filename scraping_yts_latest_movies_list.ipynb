{
  "cells": [
    {
      "cell_type": "markdown",
      "metadata": {
        "id": "view-in-github",
        "colab_type": "text"
      },
      "source": [
        "<a href=\"https://colab.research.google.com/github/Jai0926/my-new-webdesign/blob/main/scraping_yts_latest_movies_list.ipynb\" target=\"_parent\"><img src=\"https://colab.research.google.com/assets/colab-badge.svg\" alt=\"Open In Colab\"/></a>"
      ]
    },
    {
      "cell_type": "markdown",
      "metadata": {
        "id": "1QMyT4Uokbiu"
      },
      "source": [
        "# Scraping Genre Wise YTS Movie Details using Python\n",
        "\n",
        "- Extracting the latest movie details from the website yts.live largest torrent plat from.\n",
        "- The tools used are (Python, requests, BeautifulSoup, Pandas).\n",
        "\n",
        "![download.jpg](https://i.imgur.com/0DuGlCV.jpg)\n",
        "\n",
        "\n"
      ]
    },
    {
      "cell_type": "markdown",
      "metadata": {
        "id": "c-owiZPnkbiw"
      },
      "source": [
        "# What is web-Scraping?\n",
        "\n",
        "Web Scripting is an automatic method to get large amounts of data from websites to create a data set for analysis.\n",
        "Web scraping can obtain data from various platforms like social media , ott , websites etc.\n",
        "Most of this data is unstructured data in an HTML format which is then converted into structured data in a database which can be used in various applications.\n",
        "\n",
        "![001-efficient-web-scraping.png](https://i.imgur.com/wEHurae.png)"
      ]
    },
    {
      "cell_type": "markdown",
      "metadata": {
        "id": "rdGktirKkbiw"
      },
      "source": [
        "# What is yts ?\n",
        "\n",
        "The official YTS YIFY Movies Torrents website. Download free yify movies torrents in 720p, 1080p and 3D quality. The fastest downloads at the smallest size.\n",
        "\n",
        "\n",
        "![hqdefault.jpg](https://i.imgur.com/R1QebWg.jpg)"
      ]
    },
    {
      "cell_type": "markdown",
      "metadata": {
        "id": "EswHOTrukbiw"
      },
      "source": [
        "# A small overview on YTS:\n",
        "\n",
        "YIFY Torrents or YTS was and is a peer-to-peer release group known for distributing large numbers of movies as free downloads through BitTorrent. YIFY releases were characterized through their small file size, which attracted many downloaders. They also released the latest Hollywood movies with various resolutions which can be downloaded at a short time which consumes less memory."
      ]
    },
    {
      "cell_type": "markdown",
      "metadata": {
        "id": "Jn_jx2ALkbiw"
      },
      "source": [
        "# Objective of the project\n",
        "\n",
        "- We are going to scrape 'https://ytsyify.live/genre/action/'\n",
        "- We will get the genre of films.\n",
        "- From each genre we will get the latest movies in the list and write it to a csv file.\n",
        "\n",
        "### For each movie we will get the\n",
        "- movie name with year\n",
        "- image link\n",
        "- IMDB rating\n",
        "- Download link\n",
        "\n",
        "\n",
        "# List of genre\n",
        "1. Action\n",
        "2. Adventure\n",
        "3. Animation\n",
        "4. Comedy\n",
        "5. Crime\n",
        "6. Drama\n",
        "7. Family\n",
        "8. Fantasy\n",
        "9. Horror\n",
        "10. Romance\n",
        "11. Sci-Fi\n",
        "12. Sport\n",
        "13. Thriller"
      ]
    },
    {
      "cell_type": "markdown",
      "metadata": {
        "id": "SfHoelQdkbix"
      },
      "source": [
        "# Outline of the project:\n",
        "\n",
        "1. Analyzing the structure of [Yts website](\"https://ytsyify.live/\")\n",
        "2. Installing and Importing required libraries.\n",
        "3. Simulating the page and Extracting the movie data using  `BeautifulSoup` & 'requests'\n",
        "4. Obtaining each genre movie data.\n",
        "5. Parsing the latest Movies data into: movie name, image link, IMDB rating, Download link.\n",
        "6. Storing the extracted movie data into a dictionary.\n",
        "7. Saving the data  into `CSV` file and compiling all the data into a DataFrame using `Pandas`."
      ]
    },
    {
      "cell_type": "code",
      "execution_count": null,
      "metadata": {
        "id": "BTLMKn6rkbix"
      },
      "outputs": [],
      "source": [
        "!pip install jovian --upgrade --quiet"
      ]
    },
    {
      "cell_type": "code",
      "execution_count": null,
      "metadata": {
        "id": "L18gQNhkkbix"
      },
      "outputs": [],
      "source": [
        "import jovian"
      ]
    },
    {
      "cell_type": "code",
      "execution_count": null,
      "metadata": {
        "id": "AOTzxdUCkbiy",
        "outputId": "d0e96e0d-72f2-42db-b7d3-b285fbea1dd3"
      },
      "outputs": [
        {
          "data": {
            "application/javascript": [
              "window.require && require([\"base/js/namespace\"],function(Jupyter){Jupyter.notebook.save_checkpoint()})"
            ],
            "text/plain": [
              "<IPython.core.display.Javascript object>"
            ]
          },
          "metadata": {},
          "output_type": "display_data"
        },
        {
          "name": "stdout",
          "output_type": "stream",
          "text": [
            "[jovian] Updating notebook \"vivekkalaiarasan/scraping-yts-movies-list\" on https://jovian.ai\u001b[0m\n",
            "[jovian] Committed successfully! https://jovian.ai/vivekkalaiarasan/scraping-yts-movies-list\u001b[0m\n"
          ]
        },
        {
          "data": {
            "text/plain": [
              "'https://jovian.ai/vivekkalaiarasan/scraping-yts-movies-list'"
            ]
          },
          "execution_count": 4,
          "metadata": {},
          "output_type": "execute_result"
        }
      ],
      "source": [
        "# Execute this to save new versions of the notebook\n",
        "jovian.commit(project=\"scraping-yts-movies-list\")"
      ]
    },
    {
      "cell_type": "markdown",
      "metadata": {
        "id": "zBevO7Whkbiy"
      },
      "source": [
        "# Download the Web-page:\n",
        "- We will be using requests library to download the page, stimulate and extract the information."
      ]
    },
    {
      "cell_type": "markdown",
      "metadata": {
        "id": "97rm4AIHkbiy"
      },
      "source": [
        "# Download the webpage Using requests"
      ]
    },
    {
      "cell_type": "code",
      "execution_count": null,
      "metadata": {
        "id": "fKoP1Xvjkbiy"
      },
      "outputs": [],
      "source": [
        "!pip install jovian --upgrade --quiet"
      ]
    },
    {
      "cell_type": "code",
      "execution_count": null,
      "metadata": {
        "id": "VA1oSLyPkbiy"
      },
      "outputs": [],
      "source": [
        "!pip install requests --quiet"
      ]
    },
    {
      "cell_type": "code",
      "execution_count": null,
      "metadata": {
        "id": "DRQu5Joykbiy"
      },
      "outputs": [],
      "source": [
        "import requests"
      ]
    },
    {
      "cell_type": "markdown",
      "metadata": {
        "id": "jaB4Zpo2kbiy"
      },
      "source": [
        "Requests library is installed and imported.\n",
        "\n",
        "Now we can use various methods to take the page information and return data from the web page."
      ]
    },
    {
      "cell_type": "code",
      "execution_count": null,
      "metadata": {
        "id": "izhYXJPKkbiz"
      },
      "outputs": [],
      "source": [
        "url_page = 'https://ytsyify.live/genre/action/'"
      ]
    },
    {
      "cell_type": "code",
      "execution_count": null,
      "metadata": {
        "id": "mfI8a693kbiz"
      },
      "outputs": [],
      "source": [
        "response = requests.get(url_page)"
      ]
    },
    {
      "cell_type": "markdown",
      "metadata": {
        "id": "NTV6WI74kbiz"
      },
      "source": [
        "Downloading a web page using the `requests.get` function."
      ]
    },
    {
      "cell_type": "code",
      "execution_count": null,
      "metadata": {
        "id": "N16_v2pxkbiz",
        "outputId": "8343aa2b-802f-4d95-9908-507ddd3b61cf"
      },
      "outputs": [
        {
          "data": {
            "text/plain": [
              "requests.models.Response"
            ]
          },
          "execution_count": 10,
          "metadata": {},
          "output_type": "execute_result"
        }
      ],
      "source": [
        "type(response)"
      ]
    },
    {
      "cell_type": "code",
      "execution_count": null,
      "metadata": {
        "scrolled": true,
        "id": "p9aHlegkkbiz",
        "outputId": "62b3cee3-5af9-4f5f-cd01-941d924e89a6"
      },
      "outputs": [
        {
          "data": {
            "text/plain": [
              "200"
            ]
          },
          "execution_count": 11,
          "metadata": {},
          "output_type": "execute_result"
        }
      ],
      "source": [
        "response.status_code"
      ]
    },
    {
      "cell_type": "markdown",
      "metadata": {
        "id": "FW8UZRIKkbiz"
      },
      "source": [
        "If the request was successful, response.status_code value will be always between 200 and 299."
      ]
    },
    {
      "cell_type": "code",
      "execution_count": null,
      "metadata": {
        "id": "ADN7n05wkbiz",
        "outputId": "d6540148-e334-4088-dd36-35ed69a75f51"
      },
      "outputs": [
        {
          "data": {
            "text/plain": [
              "153799"
            ]
          },
          "execution_count": 12,
          "metadata": {},
          "output_type": "execute_result"
        }
      ],
      "source": [
        "page_content = response.text\n",
        "len(page_content)"
      ]
    },
    {
      "cell_type": "markdown",
      "metadata": {
        "id": "-26PcHvfkbiz"
      },
      "source": [
        "The contents of the web page can be accessed using the `.text`."
      ]
    },
    {
      "cell_type": "code",
      "execution_count": null,
      "metadata": {
        "id": "uhRqMPtGkbi0",
        "outputId": "f5f2b11f-d7d4-4281-b681-37f5bf143157"
      },
      "outputs": [
        {
          "data": {
            "text/plain": [
              "'<!DOCTYPE html>\\n<html xmlns=\"http://www.w3.org/1999/xhtml\" xml:lang=\"en\" lang=\"en-US\">\\n <head>\\n <!-- Global site tag (gtag.js) - Google Analytics -->\\n<script async src=\"https://www.googletagmanager.com/gtag/js?id=UA-205875704-1\"></script>\\n<script>\\n  window.dataLayer = window.dataLayer || [];\\n  function gtag(){dataLayer.push(arguments);}\\n  gtag(\\'js\\', new Date());\\n\\n  gtag(\\'config\\', \\'UA-205875704-1\\');\\n</script>\\n<meta charset=\"UTF-8\">\\n<meta name=\"robots\" content=\"index,follow\">\\n<meta http-equiv=\"content-language\" content=\"en\">\\n<meta property=\"og:image:width\" content=\"800\"/>\\n<meta property=\"og:image:height\" content=\"420\"/>\\n<meta property=\"og:image:type\" content=\"image/png\"/>\\n<meta property=\"og:image\" content=\"https://ytsyify.live/wp-content/themes/movies/images/fb-capture.png\"/>\\n<meta name=\"viewport\" content=\"width=device-width, initial-scale=1, minimum-scale=1, maximum-scale=1\">\\n<meta name=\"google-site-verification\" content=\"EafBggd2HZRFrnLGA_h2j_-bcxjrGwhNy8tELx_oYNA\" />\\n<link rel=\\'styles'"
            ]
          },
          "execution_count": 13,
          "metadata": {},
          "output_type": "execute_result"
        }
      ],
      "source": [
        "page_content[:1000]"
      ]
    },
    {
      "cell_type": "markdown",
      "metadata": {
        "id": "tumL9oLFkbi0"
      },
      "source": [
        "The above printed details are the source code of the we page 'yts.live' written in html.\n",
        "this defines the contents displayed on the web-page."
      ]
    },
    {
      "cell_type": "code",
      "execution_count": null,
      "metadata": {
        "id": "_wTjY1bskbi0"
      },
      "outputs": [],
      "source": [
        "with open('action_movies_and_ratings.html', 'w', encoding = 'utf-8') as file:\n",
        "    file.write(page_content)"
      ]
    },
    {
      "cell_type": "markdown",
      "metadata": {
        "id": "l6zaRfzTkbi0"
      },
      "source": [
        "The above functions writes the contents."
      ]
    },
    {
      "cell_type": "markdown",
      "metadata": {
        "id": "HEWRo9R8kbi0"
      },
      "source": [
        "# Simplifying into a function"
      ]
    },
    {
      "cell_type": "code",
      "execution_count": null,
      "metadata": {
        "id": "cCt4iAmlkbi0"
      },
      "outputs": [],
      "source": [
        "def fetch_page(url_page):\n",
        "   #The fetch_page function will fetch the page contents of the page and return the information as output\n",
        "    response = requests.get(url_page) #this function fecthes the url page\n",
        "    # if response status code is 200  to 299 the it is sucessful page fetch\n",
        "    if response.status_code !=200:\n",
        "        raise Exception('Fetch FAILED')\n",
        "\n",
        "\n",
        "    return response.text"
      ]
    },
    {
      "cell_type": "markdown",
      "metadata": {
        "id": "tbu3t6GSkbi0"
      },
      "source": [
        "##### The above function  fetches the web page using requests lib"
      ]
    },
    {
      "cell_type": "markdown",
      "metadata": {
        "id": "9p8Byrbakbi0"
      },
      "source": [
        "# Parsing html src using beautifulsooup"
      ]
    },
    {
      "cell_type": "code",
      "execution_count": null,
      "metadata": {
        "id": "e6xht63skbi0"
      },
      "outputs": [],
      "source": [
        "!pip install beautifulsoup4 --upgrade --quiet"
      ]
    },
    {
      "cell_type": "code",
      "execution_count": null,
      "metadata": {
        "id": "AGnimlyGkbi1"
      },
      "outputs": [],
      "source": [
        "from bs4 import BeautifulSoup"
      ]
    },
    {
      "cell_type": "markdown",
      "metadata": {
        "id": "CCDfPeh-kbi1"
      },
      "source": [
        "using this library we can open and read the html file and read the contents of the file."
      ]
    },
    {
      "cell_type": "code",
      "execution_count": null,
      "metadata": {
        "id": "YSIKVN5Mkbi1"
      },
      "outputs": [],
      "source": [
        "with open('action_movies_and_ratings.html', 'r') as file:\n",
        "    html_src = file.read()"
      ]
    },
    {
      "cell_type": "markdown",
      "metadata": {
        "id": "jgwPFPAUkbi1"
      },
      "source": [
        "We will be using the beautifulsoup  and pass the fetched page contents to it and return as beautifulsoup document. The document type is bs4.BeautifulSoup."
      ]
    },
    {
      "cell_type": "code",
      "execution_count": null,
      "metadata": {
        "id": "3_I423eqkbi1"
      },
      "outputs": [],
      "source": [
        "doc = BeautifulSoup(page_content)"
      ]
    },
    {
      "cell_type": "code",
      "execution_count": null,
      "metadata": {
        "id": "_Y1ZLWu9kbi1",
        "outputId": "352ef971-20db-48f9-d3b7-861a64630b29"
      },
      "outputs": [
        {
          "data": {
            "text/plain": [
              "bs4.BeautifulSoup"
            ]
          },
          "execution_count": 20,
          "metadata": {},
          "output_type": "execute_result"
        }
      ],
      "source": [
        "type(doc)"
      ]
    },
    {
      "cell_type": "markdown",
      "metadata": {
        "id": "yp-f_aGEkbi1"
      },
      "source": [
        "The doc is ready to be parsed and various methods can be used to extract the required contents in the document."
      ]
    },
    {
      "cell_type": "code",
      "execution_count": null,
      "metadata": {
        "id": "5a4ebQSnkbi1",
        "outputId": "662aa1ea-ef80-4f4a-c846-048245d52886"
      },
      "outputs": [
        {
          "data": {
            "text/plain": [
              "'Action Movies List by YTS YIFY'"
            ]
          },
          "execution_count": 21,
          "metadata": {},
          "output_type": "execute_result"
        }
      ],
      "source": [
        "doc.title.text"
      ]
    },
    {
      "cell_type": "markdown",
      "metadata": {
        "id": "l3m4QGKakbi2"
      },
      "source": [
        "# Simplifying to a function"
      ]
    },
    {
      "cell_type": "code",
      "execution_count": null,
      "metadata": {
        "id": "NGZR-Jxikbi2"
      },
      "outputs": [],
      "source": [
        "def get_docs(page_content):\n",
        "    # this function will take htmla or xml page and return as beautifulsoup doc.\n",
        "    doc = Beautifulsoup(page_content, 'html.parser')\n",
        "    return doc"
      ]
    },
    {
      "cell_type": "markdown",
      "metadata": {
        "id": "P-6JEKzhkbi2"
      },
      "source": [
        "# Extract the movie details Name, imdb rating,the image source, and the download_link\n",
        "\n",
        "- Here we will extract the movies div.Once we get all the movie info we will start the extraction."
      ]
    },
    {
      "cell_type": "markdown",
      "metadata": {
        "id": "lGdDBlgWkbi2"
      },
      "source": [
        "# Finding_the_movie_info\n",
        "\n",
        "The extraction will be done using doc.find_all() and the class_=\". this will give us the list of the movies in the doc."
      ]
    },
    {
      "cell_type": "code",
      "execution_count": null,
      "metadata": {
        "id": "Awwr0JCVkbi2"
      },
      "outputs": [],
      "source": [
        "movie_doc = doc.find_all('div',class_= 'ml-item' )"
      ]
    },
    {
      "cell_type": "code",
      "execution_count": null,
      "metadata": {
        "id": "LvPqL886kbi2",
        "outputId": "b2f16605-4ccb-40d8-81c9-183a95efc9e8"
      },
      "outputs": [
        {
          "data": {
            "text/plain": [
              "40"
            ]
          },
          "execution_count": 24,
          "metadata": {},
          "output_type": "execute_result"
        }
      ],
      "source": [
        "len(movie_doc)"
      ]
    },
    {
      "cell_type": "code",
      "execution_count": null,
      "metadata": {
        "id": "PkWvpDQ1kbi3",
        "outputId": "f3b219e8-8a23-49d3-c486-d2ceaad5a4f9"
      },
      "outputs": [
        {
          "data": {
            "text/plain": [
              "<div class=\"ml-item\" data-movie-id=\"67308\">\n",
              "<a class=\"ml-mask jt\" data-hasqtip=\"112\" data-url=\"\" href=\"https://ytsyify.live/movie/the-big-bang-2011/\" oldtitle=\"The Big Bang (2011)\" title=\"\">\n",
              "<img alt=\"The Big Bang (2011)\" class=\"mli-thumb\" src=\"https://image.tmdb.org/t/p/w185/tnr5dg4YGGCRgLr84noLmbQfiQS.jpg\"/>\n",
              "<span class=\"mli-info\"><h2>The Big Bang (2011)</h2></span>\n",
              "</a>\n",
              "<div id=\"hidden_tip\">\n",
              "<div class=\"qtip-title\" id=\"\">The Big Bang (2011)</div>\n",
              "<div class=\"jtip-top\">\n",
              "<div class=\"jt-info jt-imdb\"> IMDb: 5.4</div>\n",
              "<div class=\"jt-info\"><a href=\"https://ytsyify.live/release-year/2011/\" rel=\"tag\">2011</a></div>\n",
              "<div class=\"jt-info\">101</div>\n",
              "<div class=\"clearfix\"></div>\n",
              "</div>\n",
              "<p class=\"f-desc\"></p><p>A private detective is hired to find a missing stripper but the job turns complicated when everyone he questions ends up dead. From the mean streets of Los Angeles to…</p>\n",
              "<div class=\"block\">Country: <a href=\"https://ytsyify.live/country/united-states/\" rel=\"tag\">United States</a></div>\n",
              "<div class=\"block\">Genre: <a href=\"https://ytsyify.live/genre/action/\" rel=\"category tag\">Action</a>, <a href=\"https://ytsyify.live/genre/mystery/\" rel=\"category tag\">Mystery</a>, <a href=\"https://ytsyify.live/genre/thriller/\" rel=\"category tag\">Thriller</a> </div>\n",
              "<div class=\"jtip-bottom\">\n",
              "<a class=\"btn btn-block btn-successful\" href=\"https://ytsyify.live/movie/the-big-bang-2011/\"><i class=\"fa fa-play-circle mr10\"></i>\n",
              "Watch Movie</a>\n",
              "<a class=\"sl-button btn bp-btn-favorite\" href=\"#pt-login\"><i class=\"fa fa-heart\"></i> <span>Favorite</span></a>\n",
              "</div>\n",
              "</div>\n",
              "</div>"
            ]
          },
          "execution_count": 25,
          "metadata": {},
          "output_type": "execute_result"
        }
      ],
      "source": [
        "movie_docs = movie_doc[25]\n",
        "movie_docs"
      ]
    },
    {
      "cell_type": "markdown",
      "metadata": {
        "id": "raINb9Pvkbi3"
      },
      "source": [
        "###### Above we got the required information for the extraction."
      ]
    },
    {
      "cell_type": "markdown",
      "metadata": {
        "id": "Ngxyg2WKkbi3"
      },
      "source": [
        "# Extraction_of_name"
      ]
    },
    {
      "cell_type": "code",
      "execution_count": null,
      "metadata": {
        "id": "2qh7Jaigkbi3",
        "outputId": "47aca7e9-6331-4ad8-8349-0ace6e4caa35"
      },
      "outputs": [
        {
          "data": {
            "text/plain": [
              "'The Big Bang (2011)'"
            ]
          },
          "execution_count": 26,
          "metadata": {},
          "output_type": "execute_result"
        }
      ],
      "source": [
        "movie_name = movie_docs.find('div', class_ ='qtip-title').text\n",
        "movie_name"
      ]
    },
    {
      "cell_type": "markdown",
      "metadata": {
        "id": "mxtf1N93kbi3"
      },
      "source": [
        "# Extraction_of_imdb_rating"
      ]
    },
    {
      "cell_type": "code",
      "execution_count": null,
      "metadata": {
        "id": "qAONH3JWkbi3",
        "outputId": "bbb87355-9731-4db7-9626-724a60ce7c30"
      },
      "outputs": [
        {
          "data": {
            "text/plain": [
              "' IMDb: 5.4'"
            ]
          },
          "execution_count": 27,
          "metadata": {},
          "output_type": "execute_result"
        }
      ],
      "source": [
        "imdb_rating = movie_docs.find('div',class_= 'jt-info jt-imdb').text\n",
        "imdb_rating"
      ]
    },
    {
      "cell_type": "markdown",
      "metadata": {
        "id": "X7ucWuV3kbi3"
      },
      "source": [
        "# Download_link_extraction"
      ]
    },
    {
      "cell_type": "code",
      "execution_count": null,
      "metadata": {
        "id": "guRLM2p8kbi4",
        "outputId": "2d68db6c-1a74-45c4-8db4-abb6868a5a55"
      },
      "outputs": [
        {
          "data": {
            "text/plain": [
              "'https://ytsyify.live/movie/the-big-bang-2011/'"
            ]
          },
          "execution_count": 28,
          "metadata": {},
          "output_type": "execute_result"
        }
      ],
      "source": [
        "download_link =movie_docs.find('a', class_= 'btn btn-block btn-successful')['href']\n",
        "download_link"
      ]
    },
    {
      "cell_type": "markdown",
      "metadata": {
        "id": "LP-HNtj-kbi4"
      },
      "source": [
        "# Header_extraction"
      ]
    },
    {
      "cell_type": "code",
      "execution_count": null,
      "metadata": {
        "id": "0y4qMjP9kbi4"
      },
      "outputs": [],
      "source": [
        "matching_tags = doc.find_all('div',{'id' : 'menu' })"
      ]
    },
    {
      "cell_type": "code",
      "execution_count": null,
      "metadata": {
        "id": "kKZ82-R7kbi4",
        "outputId": "9c031cf9-3a6c-4d23-d465-23403ed19efd"
      },
      "outputs": [
        {
          "data": {
            "text/plain": [
              "[<div id=\"menu\">\n",
              " <ul class=\"top-menu\" id=\"menu-main-menu\"><li class=\"menu-item menu-item-type-custom menu-item-object-custom menu-item-home menu-item-14\" id=\"menu-item-14\"><a href=\"https://ytsyify.live/\">Home</a></li>\n",
              " <li class=\"menu-item menu-item-type-post_type menu-item-object-page menu-item-136\" id=\"menu-item-136\"><a href=\"https://ytsyify.live/movies/\">YIFY Movies</a></li>\n",
              " <li class=\"menu-item menu-item-type-custom menu-item-object-custom current-menu-ancestor current-menu-parent menu-item-has-children menu-item-15\" id=\"menu-item-15\"><a>Genre</a>\n",
              " <div class=\"sub-container\" style=\"display: none;\"><ul class=\"sub-menu\">\n",
              " <li class=\"menu-item menu-item-type-taxonomy menu-item-object-category current-menu-item menu-item-122\" id=\"menu-item-122\"><a href=\"https://ytsyify.live/genre/action/\">Action</a></li>\n",
              " <li class=\"menu-item menu-item-type-taxonomy menu-item-object-category menu-item-123\" id=\"menu-item-123\"><a href=\"https://ytsyify.live/genre/adventure/\">Adventure</a></li>\n",
              " <li class=\"menu-item menu-item-type-taxonomy menu-item-object-category menu-item-124\" id=\"menu-item-124\"><a href=\"https://ytsyify.live/genre/animation/\">Animation</a></li>\n",
              " <li class=\"menu-item menu-item-type-taxonomy menu-item-object-category menu-item-125\" id=\"menu-item-125\"><a href=\"https://ytsyify.live/genre/comedy/\">Comedy</a></li>\n",
              " <li class=\"menu-item menu-item-type-taxonomy menu-item-object-category menu-item-126\" id=\"menu-item-126\"><a href=\"https://ytsyify.live/genre/crime/\">Crime</a></li>\n",
              " <li class=\"menu-item menu-item-type-taxonomy menu-item-object-category menu-item-127\" id=\"menu-item-127\"><a href=\"https://ytsyify.live/genre/drama/\">Drama</a></li>\n",
              " <li class=\"menu-item menu-item-type-taxonomy menu-item-object-category menu-item-128\" id=\"menu-item-128\"><a href=\"https://ytsyify.live/genre/family/\">Family</a></li>\n",
              " <li class=\"menu-item menu-item-type-taxonomy menu-item-object-category menu-item-129\" id=\"menu-item-129\"><a href=\"https://ytsyify.live/genre/fantasy/\">Fantasy</a></li>\n",
              " <li class=\"menu-item menu-item-type-taxonomy menu-item-object-category menu-item-130\" id=\"menu-item-130\"><a href=\"https://ytsyify.live/genre/horror/\">Horror</a></li>\n",
              " <li class=\"menu-item menu-item-type-taxonomy menu-item-object-category menu-item-131\" id=\"menu-item-131\"><a href=\"https://ytsyify.live/genre/romance/\">Romance</a></li>\n",
              " <li class=\"menu-item menu-item-type-taxonomy menu-item-object-category menu-item-132\" id=\"menu-item-132\"><a href=\"https://ytsyify.live/genre/sci-fi/\">Sci-Fi</a></li>\n",
              " <li class=\"menu-item menu-item-type-taxonomy menu-item-object-category menu-item-133\" id=\"menu-item-133\"><a href=\"https://ytsyify.live/genre/sport/\">Sport</a></li>\n",
              " <li class=\"menu-item menu-item-type-taxonomy menu-item-object-category menu-item-134\" id=\"menu-item-134\"><a href=\"https://ytsyify.live/genre/thriller/\">Thriller</a></li>\n",
              " </ul></div>\n",
              " </li>\n",
              " <li class=\"menu-item menu-item-type-post_type menu-item-object-page menu-item-135\" id=\"menu-item-135\"><a href=\"https://ytsyify.live/most-viewed/\">Popular Downloads</a></li>\n",
              " </ul><div class=\"clearfix\"></div>\n",
              " </div>]"
            ]
          },
          "execution_count": 30,
          "metadata": {},
          "output_type": "execute_result"
        }
      ],
      "source": [
        "matching_tags"
      ]
    },
    {
      "cell_type": "code",
      "execution_count": null,
      "metadata": {
        "id": "qREQTSjYkbi4"
      },
      "outputs": [],
      "source": [
        "header_link_tag = doc.find_all('a')[3]"
      ]
    },
    {
      "cell_type": "code",
      "execution_count": null,
      "metadata": {
        "id": "09cOdDdvkbi5",
        "outputId": "eb7723f5-20f1-44ac-b514-62cbe956fa22"
      },
      "outputs": [
        {
          "data": {
            "text/plain": [
              "'Genre'"
            ]
          },
          "execution_count": 32,
          "metadata": {},
          "output_type": "execute_result"
        }
      ],
      "source": [
        "header_link_tag.text"
      ]
    },
    {
      "cell_type": "code",
      "execution_count": null,
      "metadata": {
        "id": "AzOVUXa2kbi5",
        "outputId": "a50d8570-83d5-4e84-c8d1-aa5ed5242352"
      },
      "outputs": [
        {
          "data": {
            "text/plain": [
              "'https://ytsyify.live/Genre'"
            ]
          },
          "execution_count": 33,
          "metadata": {},
          "output_type": "execute_result"
        }
      ],
      "source": [
        "'https://ytsyify.live/'+ header_link_tag.text"
      ]
    },
    {
      "cell_type": "markdown",
      "metadata": {
        "id": "3wOlKvK5kbi5"
      },
      "source": [
        "# To Get a genre page\n",
        "\n",
        "Here we will be grabbing the genre topic page of the movies for further extraction."
      ]
    },
    {
      "cell_type": "code",
      "execution_count": null,
      "metadata": {
        "id": "-zGPHSolkbi5"
      },
      "outputs": [],
      "source": [
        "def get_genre_page(topic):\n",
        "    genre_page_url ='https://ytsyify.live/genre/'+ topic\n",
        "    response = requests.get(genre_page_url)\n",
        "    if response.status_code !=200:\n",
        "        print('status code:', response.status_code )\n",
        "        raise Exception('Failed_fetch_page' + genre_page_url)\n",
        "\n",
        "    doc = BeautifulSoup(response.text)\n",
        "\n",
        "    return doc"
      ]
    },
    {
      "cell_type": "markdown",
      "metadata": {
        "id": "nz_LBfIvkbi5"
      },
      "source": [
        "![download.jpg](https://i.imgur.com/oc27tNZ.png)"
      ]
    },
    {
      "cell_type": "code",
      "execution_count": null,
      "metadata": {
        "id": "f1csgy7pkbi5"
      },
      "outputs": [],
      "source": [
        "doc = get_genre_page('action')"
      ]
    },
    {
      "cell_type": "code",
      "execution_count": null,
      "metadata": {
        "id": "V2AdhrMUkbi5",
        "outputId": "ae7e6816-d585-4170-c24b-aa30765fc35d"
      },
      "outputs": [
        {
          "data": {
            "text/plain": [
              "'Action Movies List by YTS YIFY'"
            ]
          },
          "execution_count": 36,
          "metadata": {},
          "output_type": "execute_result"
        }
      ],
      "source": [
        "doc.title.text"
      ]
    },
    {
      "cell_type": "code",
      "execution_count": null,
      "metadata": {
        "id": "ArErd6bokbi6",
        "outputId": "8f028bde-fb97-4393-97f0-5ff9910011d7"
      },
      "outputs": [
        {
          "data": {
            "text/plain": [
              "'Romance Movies List by YTS YIFY'"
            ]
          },
          "execution_count": 37,
          "metadata": {},
          "output_type": "execute_result"
        }
      ],
      "source": [
        "doc2 = get_genre_page('romance')\n",
        "doc2.title.text"
      ]
    },
    {
      "cell_type": "markdown",
      "metadata": {
        "id": "32NZyn-ukbi6"
      },
      "source": [
        "# Simplyfying into function"
      ]
    },
    {
      "cell_type": "code",
      "execution_count": null,
      "metadata": {
        "id": "lgtzCBKvkbi6"
      },
      "outputs": [],
      "source": [
        "def movie_data(movie_docs):\n",
        "    # This function will extract all the information required and return as dictionary.\n",
        "    movie_name = movie_docs.find('div', class_ ='qtip-title').text\n",
        "    imgs_tag = movie_docs.find('img')['src']\n",
        "    imdb_rating = movie_docs.find('div',class_= 'jt-info jt-imdb').text.strip()\n",
        "    download_link =movie_docs.find('a', class_= 'btn btn-block btn-successful')['href']\n",
        "    return {\n",
        "        'Movie_Name' : movie_name,\n",
        "        'Image_Link' : imgs_tag,\n",
        "        'IMDB_Ratings' : imdb_rating,\n",
        "        'Download' :  download_link\n",
        "    }"
      ]
    },
    {
      "cell_type": "markdown",
      "metadata": {
        "id": "W0e1PRkmkbi6"
      },
      "source": [
        "The above function will return the data in the form of dictionary."
      ]
    },
    {
      "cell_type": "code",
      "execution_count": null,
      "metadata": {
        "id": "gFqID8Inkbi6",
        "outputId": "1080d801-9ae1-4795-c2b8-fe55e00a9aa4"
      },
      "outputs": [
        {
          "data": {
            "text/plain": [
              "{'Movie_Name': 'Hansan: Rising Dragon (2022)',\n",
              " 'Image_Link': 'https://image.tmdb.org/t/p/w185/erKuvxvfdkUU1nu9cSNGEfGfy4A.jpg',\n",
              " 'IMDB_Ratings': 'IMDb: 6.8',\n",
              " 'Download': 'https://ytsyify.live/movie/hansan-rising-dragon-2022/'}"
            ]
          },
          "execution_count": 39,
          "metadata": {},
          "output_type": "execute_result"
        }
      ],
      "source": [
        "movie_data(movie_doc[35])"
      ]
    },
    {
      "cell_type": "code",
      "execution_count": null,
      "metadata": {
        "id": "gNMr-RJvkbi6"
      },
      "outputs": [],
      "source": [
        "all_movies = [movie_data(tag) for tag in movie_doc]"
      ]
    },
    {
      "cell_type": "code",
      "execution_count": null,
      "metadata": {
        "id": "Q65F_gHxkbi6",
        "outputId": "fb0c0ec1-d1d7-4506-c926-2d899afe3ebb"
      },
      "outputs": [
        {
          "data": {
            "text/plain": [
              "40"
            ]
          },
          "execution_count": 41,
          "metadata": {},
          "output_type": "execute_result"
        }
      ],
      "source": [
        "len(all_movies)"
      ]
    },
    {
      "cell_type": "code",
      "execution_count": null,
      "metadata": {
        "id": "l13psJp1kbi7"
      },
      "outputs": [],
      "source": [
        "def get_genre_movie(doc):\n",
        "    # This function will get the data of the latest movies in the page.\n",
        "    movie_doc = doc.find_all('div',class_= 'ml-item' )\n",
        "    all_movies = [movie_data(tag) for tag in movie_doc]\n",
        "    return all_movies"
      ]
    },
    {
      "cell_type": "code",
      "execution_count": null,
      "metadata": {
        "id": "mh_Do_I4kbi7",
        "outputId": "47631d58-c14b-411f-9ca6-2733dce28ced"
      },
      "outputs": [
        {
          "data": {
            "text/plain": [
              "[{'Movie_Name': 'Love Nonetheless (2022)',\n",
              "  'Image_Link': 'https://image.tmdb.org/t/p/w185/3iSO2QxyY4r30QtXY8z6xITBypl.jpg',\n",
              "  'IMDB_Ratings': 'IMDb: N/A',\n",
              "  'Download': 'https://ytsyify.live/movie/love-nonetheless-2022/'},\n",
              " {'Movie_Name': 'The Merry Widow (2007)',\n",
              "  'Image_Link': 'https://image.tmdb.org/t/p/w185/oauzSoL2gHokbvRm49LLDOKlTOx.jpg',\n",
              "  'IMDB_Ratings': 'IMDb: 5.3',\n",
              "  'Download': 'https://ytsyify.live/movie/the-merry-widow-2007/'},\n",
              " {'Movie_Name': 'Fatherland (1994)',\n",
              "  'Image_Link': 'https://image.tmdb.org/t/p/w185/8HbeLtS7FRaQ6Ys8Qf62HW1VBSn.jpg',\n",
              "  'IMDB_Ratings': 'IMDb: 6.4',\n",
              "  'Download': 'https://ytsyify.live/movie/fatherland-1994/'},\n",
              " {'Movie_Name': 'Rosita (2015)',\n",
              "  'Image_Link': 'https://image.tmdb.org/t/p/w185/mExefbPnCH2bfee6Bqb43zA0BTC.jpg',\n",
              "  'IMDB_Ratings': 'IMDb: 6.5',\n",
              "  'Download': 'https://ytsyify.live/movie/rosita-2015/'},\n",
              " {'Movie_Name': 'I’ll Come Running (2008)',\n",
              "  'Image_Link': 'https://image.tmdb.org/t/p/w185/fx60AOZM2b0LOYkLIC163c9lIZs.jpg',\n",
              "  'IMDB_Ratings': 'IMDb: 6.6',\n",
              "  'Download': 'https://ytsyify.live/movie/ill-come-running-2008/'},\n",
              " {'Movie_Name': 'Bearry (2021)',\n",
              "  'Image_Link': 'https://image.tmdb.org/t/p/w185/rjUVnC6itSxUPFHNQJR7LAucIiR.jpg',\n",
              "  'IMDB_Ratings': 'IMDb: 3.5',\n",
              "  'Download': 'https://ytsyify.live/movie/bearry-2021/'},\n",
              " {'Movie_Name': 'The Attraction Test (2022)',\n",
              "  'Image_Link': 'https://image.tmdb.org/t/p/w185/zwukL1kUeEq2NjTGeDvrNxVfeWZ.jpg',\n",
              "  'IMDB_Ratings': 'IMDb: N/A',\n",
              "  'Download': 'https://ytsyify.live/movie/the-attraction-test-2022/'},\n",
              " {'Movie_Name': 'Finding Hubby (2020)',\n",
              "  'Image_Link': 'https://image.tmdb.org/t/p/w185/sBCmm7sYip7JIOzaNkot0AZkE2k.jpg',\n",
              "  'IMDB_Ratings': 'IMDb: 4.1',\n",
              "  'Download': 'https://ytsyify.live/movie/finding-hubby-2020/'},\n",
              " {'Movie_Name': 'Snowed Inn Christmas (2017)',\n",
              "  'Image_Link': 'https://image.tmdb.org/t/p/w185/1GdsUysHya4mdlcZ1ALlBJ3nyqb.jpg',\n",
              "  'IMDB_Ratings': 'IMDb: 7.2',\n",
              "  'Download': 'https://ytsyify.live/movie/snowed-inn-christmas-2017/'},\n",
              " {'Movie_Name': 'Empire Of Lust (2015)',\n",
              "  'Image_Link': 'https://image.tmdb.org/t/p/w185/bT25JmqjEwPJySIOOsKyaQdgKuH.jpg',\n",
              "  'IMDB_Ratings': 'IMDb: 6.0',\n",
              "  'Download': 'https://ytsyify.live/movie/empire-of-lust-2015/'},\n",
              " {'Movie_Name': 'The Next 365 Days (2022)',\n",
              "  'Image_Link': 'https://image.tmdb.org/t/p/w185/6FsGeIp7heHm5eh4tIxTzHIRxmt.jpg',\n",
              "  'IMDB_Ratings': 'IMDb: N/A',\n",
              "  'Download': 'https://ytsyify.live/movie/the-next-365-days-2022-examintorrent525/'},\n",
              " {'Movie_Name': 'Firebird (2021)',\n",
              "  'Image_Link': 'https://image.tmdb.org/t/p/w185/uECWNRjCEwewHBjt0leyZiAyiXb.jpg',\n",
              "  'IMDB_Ratings': 'IMDb: 7.1',\n",
              "  'Download': 'https://ytsyify.live/movie/firebird-2021/'},\n",
              " {'Movie_Name': 'Both Sides of the Blade (2022)',\n",
              "  'Image_Link': 'https://image.tmdb.org/t/p/w185/w0jUcrS42AyPNgb1RwjDm0BLaZz.jpg',\n",
              "  'IMDB_Ratings': 'IMDb: 6.7',\n",
              "  'Download': 'https://ytsyify.live/movie/both-sides-of-the-blade-2022/'},\n",
              " {'Movie_Name': 'Marry Go Round (2022)',\n",
              "  'Image_Link': 'https://image.tmdb.org/t/p/w185/w6K6XXzl9uzUlGEo3oqab9wejc0.jpg',\n",
              "  'IMDB_Ratings': 'IMDb: 6.3',\n",
              "  'Download': 'https://ytsyify.live/movie/marry-go-round-2022/'},\n",
              " {'Movie_Name': 'Caribbean Summer (2022)',\n",
              "  'Image_Link': 'https://image.tmdb.org/t/p/w185/2kiRSeVBL4PC2W34ZcICA6zetUT.jpg',\n",
              "  'IMDB_Ratings': 'IMDb: 6.6',\n",
              "  'Download': 'https://ytsyify.live/movie/caribbean-summer-2022/'},\n",
              " {'Movie_Name': 'Marry Me in Yosemite (2022)',\n",
              "  'Image_Link': 'https://image.tmdb.org/t/p/w185/vT5bCzDoti5YW4SqOzzkw7bDUuo.jpg',\n",
              "  'IMDB_Ratings': 'IMDb: N/A',\n",
              "  'Download': 'https://ytsyify.live/movie/marry-me-in-yosemite-2022/'},\n",
              " {'Movie_Name': 'Love’s Portrait (2022)',\n",
              "  'Image_Link': 'https://image.tmdb.org/t/p/w185/bruu8xqokNOkSSB9LpoyQEpBQS6.jpg',\n",
              "  'IMDB_Ratings': 'IMDb: 7.2',\n",
              "  'Download': 'https://ytsyify.live/movie/loves-portrait-2022/'},\n",
              " {'Movie_Name': 'Nina Takes a Lover (1994)',\n",
              "  'Image_Link': 'https://image.tmdb.org/t/p/w185/mSPoA8exUsNThCfBjjTug7V7wGJ.jpg',\n",
              "  'IMDB_Ratings': 'IMDb: 5.5',\n",
              "  'Download': 'https://ytsyify.live/movie/nina-takes-a-lover-1994/'},\n",
              " {'Movie_Name': 'Carmen (2003)',\n",
              "  'Image_Link': 'https://image.tmdb.org/t/p/w185/6lmfWnwLE66sKWTgaxkpEIO3hw5.jpg',\n",
              "  'IMDB_Ratings': 'IMDb: 6.1',\n",
              "  'Download': 'https://ytsyify.live/movie/carmen-2003/'},\n",
              " {'Movie_Name': 'Three Thousand Years of Longing (2022)',\n",
              "  'Image_Link': 'https://image.tmdb.org/t/p/w185/nS7DNl4A7XnDncZX70UJ8ALAihF.jpg',\n",
              "  'IMDB_Ratings': 'IMDb: 6.9',\n",
              "  'Download': 'https://ytsyify.live/movie/three-thousand-years-of-longing-2022/'}]"
            ]
          },
          "execution_count": 43,
          "metadata": {},
          "output_type": "execute_result"
        }
      ],
      "source": [
        "genre_romance = get_genre_page('romance')\n",
        "data_romance = get_genre_movie(genre_romance)\n",
        "data_romance[:20]"
      ]
    },
    {
      "cell_type": "code",
      "execution_count": null,
      "metadata": {
        "id": "zQ8q-TZrkbi7",
        "outputId": "60a49efa-1d99-4e42-c99c-11ef261f4562"
      },
      "outputs": [
        {
          "data": {
            "text/plain": [
              "[{'Movie_Name': 'Doom: Annihilation (2019)',\n",
              "  'Image_Link': 'https://image.tmdb.org/t/p/w185/7EGElXVSNnqcPjuhXPd6UVUX1rD.jpg',\n",
              "  'IMDB_Ratings': 'IMDb: 3.7',\n",
              "  'Download': 'https://ytsyify.live/movie/doom-annihilation-2019/'},\n",
              " {'Movie_Name': 'Doom (2005)',\n",
              "  'Image_Link': 'https://image.tmdb.org/t/p/w185/eVjlW6aOjqEohH4Ph4PktyH4fMr.jpg',\n",
              "  'IMDB_Ratings': 'IMDb: 5.2',\n",
              "  'Download': 'https://ytsyify.live/movie/doom-2005/'},\n",
              " {'Movie_Name': 'Dog Soldiers (2002)',\n",
              "  'Image_Link': 'https://image.tmdb.org/t/p/w185/39B0B9v089W4wykhZuDnBzwlFxs.jpg',\n",
              "  'IMDB_Ratings': 'IMDb: 6.8',\n",
              "  'Download': 'https://ytsyify.live/movie/dog-soldiers-2002/'},\n",
              " {'Movie_Name': 'The Curse of All Hallows’ Eve (2017)',\n",
              "  'Image_Link': 'https://image.tmdb.org/t/p/w185/aA1jOI27cN9IVi3sAj8ovGX6uOY.jpg',\n",
              "  'IMDB_Ratings': 'IMDb: 4.6',\n",
              "  'Download': 'https://ytsyify.live/movie/the-curse-of-all-hallows-eve-2017/'},\n",
              " {'Movie_Name': 'The Damned (2013)',\n",
              "  'Image_Link': 'https://image.tmdb.org/t/p/w185/jtTlnB7jOfEBiK5eVSLUMWR6aKg.jpg',\n",
              "  'IMDB_Ratings': 'IMDb: 5.2',\n",
              "  'Download': 'https://ytsyify.live/movie/the-damned-2013/'},\n",
              " {'Movie_Name': 'The Invitation (2022)',\n",
              "  'Image_Link': 'https://image.tmdb.org/t/p/w185/jcTq6gIskCsHlKDvCKKouEfiU66.jpg',\n",
              "  'IMDB_Ratings': 'IMDb: 5.4',\n",
              "  'Download': 'https://ytsyify.live/movie/the-invitation-2022/'},\n",
              " {'Movie_Name': 'Mansion of Blood (2015)',\n",
              "  'Image_Link': 'https://image.tmdb.org/t/p/w185/c31XK5G3h8oO9XaLOnJH3M117eP.jpg',\n",
              "  'IMDB_Ratings': 'IMDb: 5.1',\n",
              "  'Download': 'https://ytsyify.live/movie/mansion-of-blood-2015/'},\n",
              " {'Movie_Name': 'Goodnight Mommy (2022)',\n",
              "  'Image_Link': 'https://image.tmdb.org/t/p/w185/oHhD5jD4S5ElPNNFCDKXJAzMZ5h.jpg',\n",
              "  'IMDB_Ratings': 'IMDb: N/A',\n",
              "  'Download': 'https://ytsyify.live/movie/goodnight-mommy-2022/'},\n",
              " {'Movie_Name': 'Inside (2016)',\n",
              "  'Image_Link': 'https://image.tmdb.org/t/p/w185/1PSctD5yezkDKl5j61kKOk05U0g.jpg',\n",
              "  'IMDB_Ratings': 'IMDb: 4.7',\n",
              "  'Download': 'https://ytsyify.live/movie/inside-2016/'},\n",
              " {'Movie_Name': 'The Retreat (2021)',\n",
              "  'Image_Link': 'https://image.tmdb.org/t/p/w185/xDlc336bLsy9dgkvuGEm0bGz6Mb.jpg',\n",
              "  'IMDB_Ratings': 'IMDb: 4.7',\n",
              "  'Download': 'https://ytsyify.live/movie/the-retreat-2021/'},\n",
              " {'Movie_Name': 'Bearry (2021)',\n",
              "  'Image_Link': 'https://image.tmdb.org/t/p/w185/rjUVnC6itSxUPFHNQJR7LAucIiR.jpg',\n",
              "  'IMDB_Ratings': 'IMDb: 3.5',\n",
              "  'Download': 'https://ytsyify.live/movie/bearry-2021/'},\n",
              " {'Movie_Name': 'The Curse of the Werewolf (1961)',\n",
              "  'Image_Link': 'https://image.tmdb.org/t/p/w185/nwtxrG9jd5ge1nOWjmIVosBywst.jpg',\n",
              "  'IMDB_Ratings': 'IMDb: 6.5',\n",
              "  'Download': 'https://ytsyify.live/movie/the-curse-of-the-werewolf-1961/'},\n",
              " {'Movie_Name': 'Beast (2022)',\n",
              "  'Image_Link': 'https://image.tmdb.org/t/p/w185/kgRQT0Djf6wnYCd4qEVBr9Sh1GS.jpg',\n",
              "  'IMDB_Ratings': 'IMDb: N/A',\n",
              "  'Download': 'https://ytsyify.live/movie/beast-2022-examintorrent525/'},\n",
              " {'Movie_Name': 'Prey (2022)',\n",
              "  'Image_Link': 'https://image.tmdb.org/t/p/w185/w0SmlSPVodSDGtaZweYD1KBFOUN.jpg',\n",
              "  'IMDB_Ratings': 'IMDb: N/A',\n",
              "  'Download': 'https://ytsyify.live/movie/prey-2022-examintorrent525/'},\n",
              " {'Movie_Name': 'Grizzly Rage (2007)',\n",
              "  'Image_Link': 'https://image.tmdb.org/t/p/w185/oKqMtssqFRrLCkcXJuFG9de7c97.jpg',\n",
              "  'IMDB_Ratings': 'IMDb: 2.6',\n",
              "  'Download': 'https://ytsyify.live/movie/grizzly-rage-2007/'},\n",
              " {'Movie_Name': 'Slapface (2022)',\n",
              "  'Image_Link': 'https://image.tmdb.org/t/p/w185/xFR5TrTfhjaKN2z17rP09hoQXXs.jpg',\n",
              "  'IMDB_Ratings': 'IMDb: 5.1',\n",
              "  'Download': 'https://ytsyify.live/movie/slapface-2022/'},\n",
              " {'Movie_Name': 'House of Darkness (2022)',\n",
              "  'Image_Link': 'https://image.tmdb.org/t/p/w185/zJ6OYkQTmTtFajLnOsRRiddqxsV.jpg',\n",
              "  'IMDB_Ratings': 'IMDb: N/A',\n",
              "  'Download': 'https://ytsyify.live/movie/house-of-darkness-2022/'},\n",
              " {'Movie_Name': 'The Red Book Ritual (2022)',\n",
              "  'Image_Link': 'https://image.tmdb.org/t/p/w185/bSUOMkrd63SHKzUShe5Jbrpyz0V.jpg',\n",
              "  'IMDB_Ratings': 'IMDb: N/A',\n",
              "  'Download': 'https://ytsyify.live/movie/the-red-book-ritual-2022/'},\n",
              " {'Movie_Name': 'It Hatched (2021)',\n",
              "  'Image_Link': 'https://image.tmdb.org/t/p/w185/mkSlvjwXdyPLCiWwxCxZXjeLwra.jpg',\n",
              "  'IMDB_Ratings': 'IMDb: N/A',\n",
              "  'Download': 'https://ytsyify.live/movie/it-hatched-2021/'},\n",
              " {'Movie_Name': 'The Feast (2021)',\n",
              "  'Image_Link': 'https://image.tmdb.org/t/p/w185/7CHTcbtIKuKOztKjRO3QWThyxHC.jpg',\n",
              "  'IMDB_Ratings': 'IMDb: N/A',\n",
              "  'Download': 'https://ytsyify.live/movie/the-feast-2021/'}]"
            ]
          },
          "execution_count": 44,
          "metadata": {},
          "output_type": "execute_result"
        }
      ],
      "source": [
        "genre_romance = get_genre_page('horror')\n",
        "data_romance = get_genre_movie(genre_romance)\n",
        "data_romance[:20]"
      ]
    },
    {
      "cell_type": "markdown",
      "metadata": {
        "id": "Guh6JOGbkbi7"
      },
      "source": [
        "# Writing csv files with headings.\n",
        "\n",
        "- Here we will be writing the .csv file to store the data for future use."
      ]
    },
    {
      "cell_type": "code",
      "execution_count": null,
      "metadata": {
        "id": "TaFjgCjqkbi7",
        "outputId": "babe137d-dd57-4d09-de2a-933274b3496f"
      },
      "outputs": [
        {
          "data": {
            "text/plain": [
              "'Movie_Name,Image_Link,IMDB_Ratings,Download\\n'"
            ]
          },
          "execution_count": 45,
          "metadata": {},
          "output_type": "execute_result"
        }
      ],
      "source": [
        "headers_ = list(data_romance[0].keys())\n",
        "','.join(headers_) + '\\n'"
      ]
    },
    {
      "cell_type": "code",
      "execution_count": null,
      "metadata": {
        "id": "TKCbdeq-kbi7"
      },
      "outputs": [],
      "source": [
        "def write_csv(items, path):\n",
        "\n",
        "    with open(path, 'w') as file:          # Open  file in write mode\n",
        "\n",
        "        if len(items) == 0:     # Return if there's nothing to write\n",
        "            return\n",
        "\n",
        "        # Write the headers in the first line\n",
        "        headers = list(items[0].keys())\n",
        "        file.write(','.join(headers) + '\\n')\n",
        "\n",
        "\n",
        "        for item in items:            #Write one item per line\n",
        "            values = []\n",
        "            for header in headers:\n",
        "                values.append(str(item.get(header, \"\")))\n",
        "            file.write(','.join(values) + \"\\n\")"
      ]
    },
    {
      "cell_type": "code",
      "execution_count": null,
      "metadata": {
        "id": "4y4F105Pkbi8"
      },
      "outputs": [],
      "source": [
        "write_csv(data_romance,'Romance.csv')"
      ]
    },
    {
      "cell_type": "code",
      "execution_count": null,
      "metadata": {
        "id": "znf6zq6qkbi8",
        "outputId": "96f70e71-3b43-4fb7-afd3-f2f93c55fa30"
      },
      "outputs": [
        {
          "name": "stdout",
          "output_type": "stream",
          "text": [
            "Movie_Name,Image_Link,IMDB_Ratings,Download\n",
            "Doom: Annihilation (2019),https://image.tmdb.org/t/p/w185/7EGElXVSNnqcPjuhXPd6UVUX1rD.jpg,IMDb: 3.7,https://ytsyify.live/movie/doom-annihilation-2019/\n",
            "Doom (2005),https://image.tmdb.org/t/p/w185/eVjlW6aOjqEohH4Ph4PktyH4fMr.jpg,IMDb: 5.2,https://ytsyify.live/movie/doom-2005/\n",
            "Dog Soldiers (2002),https://image.tmdb.org/t/p/w185/39B0B9v089W4wykhZuDnBzwlFxs.jpg,IMDb: 6.8,https://ytsyify.live/movie/dog-soldiers-2002/\n",
            "The Curse of All Hallows’ Eve (2017),https://image.tmdb.org/t/p/w185/aA1jOI27cN9IVi3sAj8ovGX6uOY.jpg,IMDb: 4.6,https://ytsyify.live/movie/the-curse-of-all-hallows-eve-2017/\n",
            "The Damned (2013),https://image.tmdb.org/t/p/w185/jtTlnB7jOfEBiK5eVSLUMWR6aKg.jpg,IMDb: 5.2,https://ytsyify.live/movie/the-damned-2013/\n",
            "The Invitation (2022),https://image.tmdb.org/t/p/w185/jcTq6gIskCsHlKDvCKKouEfiU66.jpg,IMDb: 5.4,https://ytsyify.live/movie/the-invitation-2022/\n",
            "Mansion of Blood (2015),https://image.tmdb.org/t/p/w185/c31XK5G3h8oO9XaLOnJH3M117eP.jpg,IMDb: 5.1,https://ytsyify.live/movie/mansion-of-blood-2015/\n",
            "Goodnight Mommy (2022),https://image.tmdb.org/t/p/w185/oHhD5jD4S5ElPNNFCDKXJAzMZ5h.jpg,IMDb: N/A,https://ytsyify.live/movie/goodnight-mommy-2022/\n",
            "Inside (2016),https://image.tmdb.org/t/p/w185/1PSctD5yezkDKl5j61kKOk05U0g.jpg,IMDb: 4.7,https://ytsyify.live/movie/inside-2016/\n",
            "The Retreat (2021),https://image.tmdb.org/t/p/w185/xDlc336bLsy9dgkvuGEm0bGz6Mb.jpg,IMDb: 4.7,https://ytsyify.live/movie/the-retreat-2021/\n",
            "Bearry (2021),https://image.tmdb.org/t/p/w185/rjUVnC6itSxUPFHNQJR7LAucIiR.jpg,IMDb: 3.5,https://ytsyify.live/movie/bearry-2021/\n",
            "The Curse of the Werewolf (1961),https://image.tmdb.org/t/p/w185/nwtxrG9jd5ge1nOWjmIVosBywst.jpg,IMDb: 6.5,https://ytsyify.live/movie/the-curse-of-the-werewolf-1961/\n",
            "Beast (2022),https://image.tmdb.org/t/p/w185/kgRQT0Djf6wnYCd4qEVBr9Sh1GS.jpg,IMDb: N/A,https://ytsyify.live/movie/beast-2022-examintorrent525/\n",
            "Prey (2022),https://image.tmdb.org/t/p/w185/w0SmlSPVodSDGtaZweYD1KBFOUN.jpg,IMDb: N/A,https://ytsyify.live/movie/prey-2022-examintorrent525/\n",
            "Grizzly Rage (2007),https://image.tmdb.org/t/p/w185/oKqMtssqFRrLCkcXJuFG9de7c97.jpg,IMDb: 2.6,https://ytsyify.live/movie/grizzly-rage-2007/\n",
            "Slapface (2022),https://image.tmdb.org/t/p/w185/xFR5TrTfhjaKN2z17rP09hoQXXs.jpg,IMDb: 5.1,https://ytsyify.live/movie/slapface-2022/\n",
            "House of Darkness (2022),https://image.tmdb.org/t/p/w185/zJ6OYkQTmTtFajLnOsRRiddqxsV.jpg,IMDb: N/A,https://ytsyify.live/movie/house-of-darkness-2022/\n",
            "The Red Book Ritual (2022),https://image.tmdb.org/t/p/w185/bSUOMkrd63SHKzUShe5Jbrpyz0V.jpg,IMDb: N/A,https://ytsyify.live/movie/the-red-book-ritual-2022/\n",
            "It Hatched (2021),https://image.tmdb.org/t/p/w185/mkSlvjwXdyPLCiWwxCxZXjeLwra.jpg,IMDb: N/A,https://ytsyify.live/movie/it-hatched-2021/\n",
            "The Feast (2021),https://image.tmdb.org/t/p/w185/7CHTcbtIKuKOztKjRO3QWThyxHC.jpg,IMDb: N/A,https://ytsyify.live/movie/the-feast-2021/\n",
            "Saloum (2021),https://image.tmdb.org/t/p/w185/yEWO77ClYNqNGMg98v2XNzV8Vx1.jpg,IMDb: 6.6,https://ytsyify.live/movie/saloum-2021/\n",
            "Horror in the High Desert (2021),https://image.tmdb.org/t/p/w185/s1D5ZGgbxVgQHw70CDwYZQbvaBT.jpg,IMDb: 5.4,https://ytsyify.live/movie/horror-in-the-high-desert-2021/\n",
            "Margaux (2022),https://image.tmdb.org/t/p/w185/y3tFfuXn3IoBuftmuc5fejv5iBu.jpg,IMDb: N/A,https://ytsyify.live/movie/margaux-2022/\n",
            "The Harbinger (2022),https://image.tmdb.org/t/p/w185/e7qlOysRTnpNKi3aWdTrzF2BrbV.jpg,IMDb: 3.4,https://ytsyify.live/movie/the-harbinger-2022/\n",
            "Tiny Cinema (2022),https://image.tmdb.org/t/p/w185/haymRE8d8rCNolngLVMsJoY8Ymo.jpg,IMDb: N/A,https://ytsyify.live/movie/tiny-cinema-2022/\n",
            "Something in the Woods (2022),https://image.tmdb.org/t/p/w185/4Oqw4nTrymhkqlB68U0SQoS33WR.jpg,IMDb: N/A,https://ytsyify.live/movie/something-in-the-woods-2022/\n",
            "HollyBlood (2022),https://image.tmdb.org/t/p/w185/lcFw1XS35ULWwZde6iDI5m4BwuX.jpg,IMDb: N/A,https://ytsyify.live/movie/hollyblood-2022/\n",
            "Nope (2022),https://image.tmdb.org/t/p/w185/AcKVlWaNVVVFQwro3nLXqPljcYA.jpg,IMDb: N/A,https://ytsyify.live/movie/nope-2022-examintorrent525/\n",
            "The Babysitter: Killer Queen (2020),https://image.tmdb.org/t/p/w185/imy1OoT1xddt2kqw6hhc4v01e8i.jpg,IMDb: 5.8,https://ytsyify.live/movie/the-babysitter-killer-queen-2020/\n",
            "The Babysitter (2017),https://image.tmdb.org/t/p/w185/86a7GRVRCwfl7wdI4QadyvKa6Zu.jpg,IMDb: 6.3,https://ytsyify.live/movie/the-babysitter-2017/\n",
            "SLR (2022),https://image.tmdb.org/t/p/w185/mHQDLK9DZ5lULet8GhXYumd85p7.jpg,IMDb: N/A,https://ytsyify.live/movie/slr-2022/\n",
            "Orphan: First Kill (2022),https://image.tmdb.org/t/p/w185/cQYfh1jWzeizgJI2Z66y9h8YKTU.jpg,IMDb: 6.0,https://ytsyify.live/movie/orphan-first-kill-2022/\n",
            "The Cellar (2022),https://image.tmdb.org/t/p/w185/2rlLgZdKC9UhzI7qZHbWKLxl889.jpg,IMDb: 6.1,https://ytsyify.live/movie/the-cellar-2022-begantorrent228/\n",
            "Allegoria (2022),https://image.tmdb.org/t/p/w185/b8QfIeN7J0Qs0cyunDg6GDRiBax.jpg,IMDb: N/A,https://ytsyify.live/movie/allegoria-2022-spanstorrent390/\n",
            "3 Demons (2022),https://image.tmdb.org/t/p/w185/7aAcqJjyhim0DWVgHP7BqguWyQC.jpg,IMDb: 4.0,https://ytsyify.live/movie/3-demons-2022/\n",
            "Orcus (2022),https://image.tmdb.org/t/p/w185/jHDAcWFw2uhhwW0qjLfOlaED4bF.jpg,IMDb: N/A,https://ytsyify.live/movie/orcus-2022/\n",
            "The Summoned (2022),https://image.tmdb.org/t/p/w185/ijPQkXHoAUTDl60NXYLG2DypAgS.jpg,IMDb: 4.2,https://ytsyify.live/movie/the-summoned-2022/\n",
            "Mid-Century (2022),https://image.tmdb.org/t/p/w185/v3twbN3ScvJAHPdvDPXemRU9sC3.jpg,IMDb: 3.3,https://ytsyify.live/movie/mid-century-2022/\n",
            "American Carnage (2022),https://image.tmdb.org/t/p/w185/zQmwQqtT2KEfg5IO5u8lexZoCAR.jpg,IMDb: 5.0,https://ytsyify.live/movie/american-carnage-2022/\n",
            "Glorious (2022),https://image.tmdb.org/t/p/w185/gttZLC3yhLFx1EnfjEUaDb2YAwl.jpg,IMDb: N/A,https://ytsyify.live/movie/glorious-2022/\n",
            "\n"
          ]
        }
      ],
      "source": [
        "with open('Romance.csv', 'r') as file:\n",
        "    print(file.read())\n",
        "    #This func"
      ]
    },
    {
      "cell_type": "markdown",
      "metadata": {
        "id": "p5d9TnmBkbi8"
      },
      "source": [
        "# Scrape_Movies_From_the_topic_page.\n",
        "\n",
        "Put into a single fumction."
      ]
    },
    {
      "cell_type": "code",
      "execution_count": null,
      "metadata": {
        "id": "_WQZGgUMkbi8"
      },
      "outputs": [],
      "source": [
        "def scrape_all_movies(topic, path = None):\n",
        "    #Get the all the movie data from the topic and write to csv file\n",
        "    if path is None:\n",
        "        path = topic +'.csv'\n",
        "    genre_page_doc = get_genre_page(topic)\n",
        "    genre_data = get_genre_movie(genre_page_doc)\n",
        "    write_csv(genre_data,path)\n",
        "    print('The Genre data for the topic\"{}\" write to file \"{}\"'.format(topic,path))\n",
        "    return path"
      ]
    },
    {
      "cell_type": "code",
      "execution_count": null,
      "metadata": {
        "id": "wIjSOQH0kbi8",
        "outputId": "c7d509e5-2aa4-4e37-cfba-9e2005be47aa"
      },
      "outputs": [
        {
          "name": "stdout",
          "output_type": "stream",
          "text": [
            "The Genre data for the topic\"action\" write to file \"action.csv\"\n"
          ]
        },
        {
          "data": {
            "text/plain": [
              "'action.csv'"
            ]
          },
          "execution_count": 50,
          "metadata": {},
          "output_type": "execute_result"
        }
      ],
      "source": [
        "scrape_all_movies('action')"
      ]
    },
    {
      "cell_type": "code",
      "execution_count": null,
      "metadata": {
        "id": "388cvjrKkbi8",
        "outputId": "96cbc3e9-2385-4673-e3e1-b58a6bad4559"
      },
      "outputs": [
        {
          "name": "stdout",
          "output_type": "stream",
          "text": [
            "The Genre data for the topic\"romance\" write to file \"romance.csv\"\n"
          ]
        },
        {
          "data": {
            "text/plain": [
              "'romance.csv'"
            ]
          },
          "execution_count": 51,
          "metadata": {},
          "output_type": "execute_result"
        }
      ],
      "source": [
        "scrape_all_movies('romance')"
      ]
    },
    {
      "cell_type": "code",
      "execution_count": null,
      "metadata": {
        "id": "-KkePMmgkbi8",
        "outputId": "ff762da0-97f4-435c-d75c-1a89e83a3e38"
      },
      "outputs": [
        {
          "name": "stdout",
          "output_type": "stream",
          "text": [
            "The Genre data for the topic\"horror\" write to file \"horror.csv\"\n"
          ]
        },
        {
          "data": {
            "text/plain": [
              "'horror.csv'"
            ]
          },
          "execution_count": 52,
          "metadata": {},
          "output_type": "execute_result"
        }
      ],
      "source": [
        "scrape_all_movies('horror')"
      ]
    },
    {
      "cell_type": "code",
      "execution_count": null,
      "metadata": {
        "id": "6S84dSTzkbi9"
      },
      "outputs": [],
      "source": [
        "import pandas as pandas\n",
        "\n",
        "# The pandas function helps to read the file in a structured table."
      ]
    },
    {
      "cell_type": "code",
      "execution_count": null,
      "metadata": {
        "id": "ZH8MhTJOkbi9",
        "outputId": "c2644fe4-7aa3-408c-94ca-fea145bcb208"
      },
      "outputs": [
        {
          "data": {
            "text/html": [
              "<div>\n",
              "<style scoped>\n",
              "    .dataframe tbody tr th:only-of-type {\n",
              "        vertical-align: middle;\n",
              "    }\n",
              "\n",
              "    .dataframe tbody tr th {\n",
              "        vertical-align: top;\n",
              "    }\n",
              "\n",
              "    .dataframe thead th {\n",
              "        text-align: right;\n",
              "    }\n",
              "</style>\n",
              "<table border=\"1\" class=\"dataframe\">\n",
              "  <thead>\n",
              "    <tr style=\"text-align: right;\">\n",
              "      <th></th>\n",
              "      <th>Movie_Name</th>\n",
              "      <th>Image_Link</th>\n",
              "      <th>IMDB_Ratings</th>\n",
              "      <th>Download</th>\n",
              "    </tr>\n",
              "  </thead>\n",
              "  <tbody>\n",
              "    <tr>\n",
              "      <th>0</th>\n",
              "      <td>Doom: Annihilation (2019)</td>\n",
              "      <td>https://image.tmdb.org/t/p/w185/7EGElXVSNnqcPj...</td>\n",
              "      <td>IMDb: 3.7</td>\n",
              "      <td>https://ytsyify.live/movie/doom-annihilation-2...</td>\n",
              "    </tr>\n",
              "    <tr>\n",
              "      <th>1</th>\n",
              "      <td>Doom (2005)</td>\n",
              "      <td>https://image.tmdb.org/t/p/w185/eVjlW6aOjqEohH...</td>\n",
              "      <td>IMDb: 5.2</td>\n",
              "      <td>https://ytsyify.live/movie/doom-2005/</td>\n",
              "    </tr>\n",
              "    <tr>\n",
              "      <th>2</th>\n",
              "      <td>Dog Soldiers (2002)</td>\n",
              "      <td>https://image.tmdb.org/t/p/w185/39B0B9v089W4wy...</td>\n",
              "      <td>IMDb: 6.8</td>\n",
              "      <td>https://ytsyify.live/movie/dog-soldiers-2002/</td>\n",
              "    </tr>\n",
              "    <tr>\n",
              "      <th>3</th>\n",
              "      <td>The Marine 2 (2009)</td>\n",
              "      <td>https://image.tmdb.org/t/p/w185/z1PayLY6vlMeCr...</td>\n",
              "      <td>IMDb: 5.0</td>\n",
              "      <td>https://ytsyify.live/movie/the-marine-2-2009/</td>\n",
              "    </tr>\n",
              "    <tr>\n",
              "      <th>4</th>\n",
              "      <td>Recoil (2011)</td>\n",
              "      <td>https://image.tmdb.org/t/p/w185/5K0EDKAP4OvmCu...</td>\n",
              "      <td>IMDb: 5.1</td>\n",
              "      <td>https://ytsyify.live/movie/recoil-2011/</td>\n",
              "    </tr>\n",
              "    <tr>\n",
              "      <th>5</th>\n",
              "      <td>Free Ride (2013)</td>\n",
              "      <td>https://image.tmdb.org/t/p/w185/9vuDdLXgyjhiuq...</td>\n",
              "      <td>IMDb: 5.6</td>\n",
              "      <td>https://ytsyify.live/movie/free-ride-2013/</td>\n",
              "    </tr>\n",
              "    <tr>\n",
              "      <th>6</th>\n",
              "      <td>Lost at War (2007)</td>\n",
              "      <td>https://image.tmdb.org/t/p/w185/8IF24eO1T87y6E...</td>\n",
              "      <td>IMDb: 5.0</td>\n",
              "      <td>https://ytsyify.live/movie/lost-at-war-2007/</td>\n",
              "    </tr>\n",
              "    <tr>\n",
              "      <th>7</th>\n",
              "      <td>Bearry (2021)</td>\n",
              "      <td>https://image.tmdb.org/t/p/w185/rjUVnC6itSxUPF...</td>\n",
              "      <td>IMDb: 3.5</td>\n",
              "      <td>https://ytsyify.live/movie/bearry-2021/</td>\n",
              "    </tr>\n",
              "    <tr>\n",
              "      <th>8</th>\n",
              "      <td>Empire Of Lust (2015)</td>\n",
              "      <td>https://image.tmdb.org/t/p/w185/bT25JmqjEwPJyS...</td>\n",
              "      <td>IMDb: 6.0</td>\n",
              "      <td>https://ytsyify.live/movie/empire-of-lust-2015/</td>\n",
              "    </tr>\n",
              "    <tr>\n",
              "      <th>9</th>\n",
              "      <td>Restart The Earth (2022)</td>\n",
              "      <td>https://image.tmdb.org/t/p/w185/kl80N1g69v9QXe...</td>\n",
              "      <td>IMDb: 4.5</td>\n",
              "      <td>https://ytsyify.live/movie/restart-the-earth-2...</td>\n",
              "    </tr>\n",
              "    <tr>\n",
              "      <th>10</th>\n",
              "      <td>Morbius (2022)</td>\n",
              "      <td>https://image.tmdb.org/t/p/w185/6nhwr1LCozBiIN...</td>\n",
              "      <td>IMDb: N/A</td>\n",
              "      <td>https://ytsyify.live/movie/morbius-2022-examin...</td>\n",
              "    </tr>\n",
              "    <tr>\n",
              "      <th>11</th>\n",
              "      <td>Thor: Love and Thunder (2022)</td>\n",
              "      <td>https://image.tmdb.org/t/p/w185/ifx23jgqQ8ZjUb...</td>\n",
              "      <td>IMDb: N/A</td>\n",
              "      <td>https://ytsyify.live/movie/thor-love-and-thund...</td>\n",
              "    </tr>\n",
              "    <tr>\n",
              "      <th>12</th>\n",
              "      <td>Doctor Strange in the Multiverse of Madness (2...</td>\n",
              "      <td>https://image.tmdb.org/t/p/w185/BAuj5e4pqMbLGV...</td>\n",
              "      <td>IMDb: N/A</td>\n",
              "      <td>https://ytsyify.live/movie/doctor-strange-in-t...</td>\n",
              "    </tr>\n",
              "    <tr>\n",
              "      <th>13</th>\n",
              "      <td>Black Panther: Wakanda Forever (2022)</td>\n",
              "      <td>https://image.tmdb.org/t/p/w185/6N6Rr1Y5wsi2Kb...</td>\n",
              "      <td>IMDb: N/A</td>\n",
              "      <td>https://ytsyify.live/movie/black-panther-wakan...</td>\n",
              "    </tr>\n",
              "    <tr>\n",
              "      <th>14</th>\n",
              "      <td>Carter (2022)</td>\n",
              "      <td>https://image.tmdb.org/t/p/w185/uzAh3Ub2YttCz1...</td>\n",
              "      <td>IMDb: 5.1</td>\n",
              "      <td>https://ytsyify.live/movie/carter-2022-examint...</td>\n",
              "    </tr>\n",
              "    <tr>\n",
              "      <th>15</th>\n",
              "      <td>Black Adam (2022)</td>\n",
              "      <td>https://image.tmdb.org/t/p/w185/eqGks2XhJSZoi4...</td>\n",
              "      <td>IMDb: N/A</td>\n",
              "      <td>https://ytsyify.live/movie/black-adam-2022-exa...</td>\n",
              "    </tr>\n",
              "    <tr>\n",
              "      <th>16</th>\n",
              "      <td>Mission: Impossible 7 (2022)</td>\n",
              "      <td>https://image.tmdb.org/t/p/w185/tO2JanZX3bg3Qr...</td>\n",
              "      <td>IMDb: N/A</td>\n",
              "      <td>https://ytsyify.live/movie/mission-impossible-...</td>\n",
              "    </tr>\n",
              "    <tr>\n",
              "      <th>17</th>\n",
              "      <td>DC League of Super-Pets (2022)</td>\n",
              "      <td>https://image.tmdb.org/t/p/w185/1uQ3NP6N9m2UtL...</td>\n",
              "      <td>IMDb: N/A</td>\n",
              "      <td>https://ytsyify.live/movie/dc-league-of-super-...</td>\n",
              "    </tr>\n",
              "    <tr>\n",
              "      <th>18</th>\n",
              "      <td>Avatar 2 (2022)</td>\n",
              "      <td>https://image.tmdb.org/t/p/w185/uh4xY5eWCy20Dj...</td>\n",
              "      <td>IMDb: N/A</td>\n",
              "      <td>https://ytsyify.live/movie/avatar-2-2022-exami...</td>\n",
              "    </tr>\n",
              "    <tr>\n",
              "      <th>19</th>\n",
              "      <td>Prey (2022)</td>\n",
              "      <td>https://image.tmdb.org/t/p/w185/w0SmlSPVodSDGt...</td>\n",
              "      <td>IMDb: N/A</td>\n",
              "      <td>https://ytsyify.live/movie/prey-2022-examintor...</td>\n",
              "    </tr>\n",
              "    <tr>\n",
              "      <th>20</th>\n",
              "      <td>The Batman (2022)</td>\n",
              "      <td>https://image.tmdb.org/t/p/w185/pOaKyhMwALpCTg...</td>\n",
              "      <td>IMDb: N/A</td>\n",
              "      <td>https://ytsyify.live/movie/the-batman-2022-exa...</td>\n",
              "    </tr>\n",
              "    <tr>\n",
              "      <th>21</th>\n",
              "      <td>The Expendables 4 (2022)</td>\n",
              "      <td>https://image.tmdb.org/t/p/w185/aTIuCbMMTKPkl4...</td>\n",
              "      <td>IMDb: N/A</td>\n",
              "      <td>https://ytsyify.live/movie/the-expendables-4-2...</td>\n",
              "    </tr>\n",
              "    <tr>\n",
              "      <th>22</th>\n",
              "      <td>Top Gun: Maverick (2022)</td>\n",
              "      <td>https://image.tmdb.org/t/p/w185/i0FHyNF9VvQTXO...</td>\n",
              "      <td>IMDb: N/A</td>\n",
              "      <td>https://ytsyify.live/movie/top-gun-maverick-20...</td>\n",
              "    </tr>\n",
              "    <tr>\n",
              "      <th>23</th>\n",
              "      <td>The Gray Man (2022)</td>\n",
              "      <td>https://image.tmdb.org/t/p/w185/5Eom3JsXgQlCj6...</td>\n",
              "      <td>IMDb: N/A</td>\n",
              "      <td>https://ytsyify.live/movie/the-gray-man-2022-e...</td>\n",
              "    </tr>\n",
              "    <tr>\n",
              "      <th>24</th>\n",
              "      <td>Emergency Declaration (2022)</td>\n",
              "      <td>https://image.tmdb.org/t/p/w185/vkXqfnXCjiN6yj...</td>\n",
              "      <td>IMDb: 7.1</td>\n",
              "      <td>https://ytsyify.live/movie/emergency-declarati...</td>\n",
              "    </tr>\n",
              "    <tr>\n",
              "      <th>25</th>\n",
              "      <td>The Big Bang (2011)</td>\n",
              "      <td>https://image.tmdb.org/t/p/w185/tnr5dg4YGGCRgL...</td>\n",
              "      <td>IMDb: 5.4</td>\n",
              "      <td>https://ytsyify.live/movie/the-big-bang-2011/</td>\n",
              "    </tr>\n",
              "    <tr>\n",
              "      <th>26</th>\n",
              "      <td>Grizzly Rage (2007)</td>\n",
              "      <td>https://image.tmdb.org/t/p/w185/oKqMtssqFRrLCk...</td>\n",
              "      <td>IMDb: 2.6</td>\n",
              "      <td>https://ytsyify.live/movie/grizzly-rage-2007/</td>\n",
              "    </tr>\n",
              "    <tr>\n",
              "      <th>27</th>\n",
              "      <td>The Gang That Sold America (1979)</td>\n",
              "      <td>https://image.tmdb.org/t/p/w185/vAGwA9SL1iVXwk...</td>\n",
              "      <td>IMDb: 5.7</td>\n",
              "      <td>https://ytsyify.live/movie/the-gang-that-sold-...</td>\n",
              "    </tr>\n",
              "    <tr>\n",
              "      <th>28</th>\n",
              "      <td>Kingslayer (2022)</td>\n",
              "      <td>https://image.tmdb.org/t/p/w185/qWBNPWSfwET3fT...</td>\n",
              "      <td>IMDb: N/A</td>\n",
              "      <td>https://ytsyify.live/movie/kingslayer-2022/</td>\n",
              "    </tr>\n",
              "    <tr>\n",
              "      <th>29</th>\n",
              "      <td>El Camino: A Breaking Bad Movie (2019)</td>\n",
              "      <td>https://image.tmdb.org/t/p/w185/ePXuKdXZuJx8hH...</td>\n",
              "      <td>IMDb: 7.3</td>\n",
              "      <td>https://ytsyify.live/movie/el-camino-a-breakin...</td>\n",
              "    </tr>\n",
              "    <tr>\n",
              "      <th>30</th>\n",
              "      <td>Die Hard: With a Vengeance (1995)</td>\n",
              "      <td>https://image.tmdb.org/t/p/w185/sOqB9iMEcbGhAg...</td>\n",
              "      <td>IMDb: 7.6</td>\n",
              "      <td>https://ytsyify.live/movie/die-hard-with-a-ven...</td>\n",
              "    </tr>\n",
              "    <tr>\n",
              "      <th>31</th>\n",
              "      <td>Attack on Finland (2021)</td>\n",
              "      <td>https://image.tmdb.org/t/p/w185/llItP3ncQG7mTs...</td>\n",
              "      <td>IMDb: 5.4</td>\n",
              "      <td>https://ytsyify.live/movie/attack-on-finland-2...</td>\n",
              "    </tr>\n",
              "    <tr>\n",
              "      <th>32</th>\n",
              "      <td>Deep in It (2022)</td>\n",
              "      <td>https://image.tmdb.org/t/p/w185/s78wYZETv54v2S...</td>\n",
              "      <td>IMDb: N/A</td>\n",
              "      <td>https://ytsyify.live/movie/deep-in-it-2022/</td>\n",
              "    </tr>\n",
              "    <tr>\n",
              "      <th>33</th>\n",
              "      <td>End of the Road (2022)</td>\n",
              "      <td>https://image.tmdb.org/t/p/w185/tLFIMuPWJHlTJ6...</td>\n",
              "      <td>IMDb: N/A</td>\n",
              "      <td>https://ytsyify.live/movie/end-of-the-road-202...</td>\n",
              "    </tr>\n",
              "    <tr>\n",
              "      <th>34</th>\n",
              "      <td>Crazy Six (1997)</td>\n",
              "      <td>https://image.tmdb.org/t/p/w185/6qq4lKGwXZO34B...</td>\n",
              "      <td>IMDb: 2.6</td>\n",
              "      <td>https://ytsyify.live/movie/crazy-six-1997/</td>\n",
              "    </tr>\n",
              "    <tr>\n",
              "      <th>35</th>\n",
              "      <td>Hansan: Rising Dragon (2022)</td>\n",
              "      <td>https://image.tmdb.org/t/p/w185/erKuvxvfdkUU1n...</td>\n",
              "      <td>IMDb: 6.8</td>\n",
              "      <td>https://ytsyify.live/movie/hansan-rising-drago...</td>\n",
              "    </tr>\n",
              "    <tr>\n",
              "      <th>36</th>\n",
              "      <td>One Way (2022)</td>\n",
              "      <td>https://image.tmdb.org/t/p/w185/la6BUTGhRHumNX...</td>\n",
              "      <td>IMDb: N/A</td>\n",
              "      <td>https://ytsyify.live/movie/one-way-2022/</td>\n",
              "    </tr>\n",
              "    <tr>\n",
              "      <th>37</th>\n",
              "      <td>Wire Room (2022)</td>\n",
              "      <td>https://image.tmdb.org/t/p/w185/b9ykj4v8ykjRoG...</td>\n",
              "      <td>IMDb: N/A</td>\n",
              "      <td>https://ytsyify.live/movie/wire-room-2022/</td>\n",
              "    </tr>\n",
              "    <tr>\n",
              "      <th>38</th>\n",
              "      <td>The Little Guy (2022)</td>\n",
              "      <td>https://image.tmdb.org/t/p/w185/lPzcizL8PdS2U1...</td>\n",
              "      <td>IMDb: 7.5</td>\n",
              "      <td>https://ytsyify.live/movie/the-little-guy-2022/</td>\n",
              "    </tr>\n",
              "    <tr>\n",
              "      <th>39</th>\n",
              "      <td>Groot Takes a Bath (2022)</td>\n",
              "      <td>https://image.tmdb.org/t/p/w185/sN7FJP06TsNNtK...</td>\n",
              "      <td>IMDb: N/A</td>\n",
              "      <td>https://ytsyify.live/movie/groot-takes-a-bath-...</td>\n",
              "    </tr>\n",
              "  </tbody>\n",
              "</table>\n",
              "</div>"
            ],
            "text/plain": [
              "                                           Movie_Name  \\\n",
              "0                           Doom: Annihilation (2019)   \n",
              "1                                         Doom (2005)   \n",
              "2                                 Dog Soldiers (2002)   \n",
              "3                                 The Marine 2 (2009)   \n",
              "4                                       Recoil (2011)   \n",
              "5                                    Free Ride (2013)   \n",
              "6                                  Lost at War (2007)   \n",
              "7                                       Bearry (2021)   \n",
              "8                               Empire Of Lust (2015)   \n",
              "9                            Restart The Earth (2022)   \n",
              "10                                     Morbius (2022)   \n",
              "11                      Thor: Love and Thunder (2022)   \n",
              "12  Doctor Strange in the Multiverse of Madness (2...   \n",
              "13              Black Panther: Wakanda Forever (2022)   \n",
              "14                                      Carter (2022)   \n",
              "15                                  Black Adam (2022)   \n",
              "16                       Mission: Impossible 7 (2022)   \n",
              "17                     DC League of Super-Pets (2022)   \n",
              "18                                    Avatar 2 (2022)   \n",
              "19                                        Prey (2022)   \n",
              "20                                  The Batman (2022)   \n",
              "21                           The Expendables 4 (2022)   \n",
              "22                           Top Gun: Maverick (2022)   \n",
              "23                                The Gray Man (2022)   \n",
              "24                       Emergency Declaration (2022)   \n",
              "25                                The Big Bang (2011)   \n",
              "26                                Grizzly Rage (2007)   \n",
              "27                  The Gang That Sold America (1979)   \n",
              "28                                  Kingslayer (2022)   \n",
              "29             El Camino: A Breaking Bad Movie (2019)   \n",
              "30                  Die Hard: With a Vengeance (1995)   \n",
              "31                           Attack on Finland (2021)   \n",
              "32                                  Deep in It (2022)   \n",
              "33                             End of the Road (2022)   \n",
              "34                                   Crazy Six (1997)   \n",
              "35                       Hansan: Rising Dragon (2022)   \n",
              "36                                     One Way (2022)   \n",
              "37                                   Wire Room (2022)   \n",
              "38                              The Little Guy (2022)   \n",
              "39                          Groot Takes a Bath (2022)   \n",
              "\n",
              "                                           Image_Link IMDB_Ratings  \\\n",
              "0   https://image.tmdb.org/t/p/w185/7EGElXVSNnqcPj...    IMDb: 3.7   \n",
              "1   https://image.tmdb.org/t/p/w185/eVjlW6aOjqEohH...    IMDb: 5.2   \n",
              "2   https://image.tmdb.org/t/p/w185/39B0B9v089W4wy...    IMDb: 6.8   \n",
              "3   https://image.tmdb.org/t/p/w185/z1PayLY6vlMeCr...    IMDb: 5.0   \n",
              "4   https://image.tmdb.org/t/p/w185/5K0EDKAP4OvmCu...    IMDb: 5.1   \n",
              "5   https://image.tmdb.org/t/p/w185/9vuDdLXgyjhiuq...    IMDb: 5.6   \n",
              "6   https://image.tmdb.org/t/p/w185/8IF24eO1T87y6E...    IMDb: 5.0   \n",
              "7   https://image.tmdb.org/t/p/w185/rjUVnC6itSxUPF...    IMDb: 3.5   \n",
              "8   https://image.tmdb.org/t/p/w185/bT25JmqjEwPJyS...    IMDb: 6.0   \n",
              "9   https://image.tmdb.org/t/p/w185/kl80N1g69v9QXe...    IMDb: 4.5   \n",
              "10  https://image.tmdb.org/t/p/w185/6nhwr1LCozBiIN...    IMDb: N/A   \n",
              "11  https://image.tmdb.org/t/p/w185/ifx23jgqQ8ZjUb...    IMDb: N/A   \n",
              "12  https://image.tmdb.org/t/p/w185/BAuj5e4pqMbLGV...    IMDb: N/A   \n",
              "13  https://image.tmdb.org/t/p/w185/6N6Rr1Y5wsi2Kb...    IMDb: N/A   \n",
              "14  https://image.tmdb.org/t/p/w185/uzAh3Ub2YttCz1...    IMDb: 5.1   \n",
              "15  https://image.tmdb.org/t/p/w185/eqGks2XhJSZoi4...    IMDb: N/A   \n",
              "16  https://image.tmdb.org/t/p/w185/tO2JanZX3bg3Qr...    IMDb: N/A   \n",
              "17  https://image.tmdb.org/t/p/w185/1uQ3NP6N9m2UtL...    IMDb: N/A   \n",
              "18  https://image.tmdb.org/t/p/w185/uh4xY5eWCy20Dj...    IMDb: N/A   \n",
              "19  https://image.tmdb.org/t/p/w185/w0SmlSPVodSDGt...    IMDb: N/A   \n",
              "20  https://image.tmdb.org/t/p/w185/pOaKyhMwALpCTg...    IMDb: N/A   \n",
              "21  https://image.tmdb.org/t/p/w185/aTIuCbMMTKPkl4...    IMDb: N/A   \n",
              "22  https://image.tmdb.org/t/p/w185/i0FHyNF9VvQTXO...    IMDb: N/A   \n",
              "23  https://image.tmdb.org/t/p/w185/5Eom3JsXgQlCj6...    IMDb: N/A   \n",
              "24  https://image.tmdb.org/t/p/w185/vkXqfnXCjiN6yj...    IMDb: 7.1   \n",
              "25  https://image.tmdb.org/t/p/w185/tnr5dg4YGGCRgL...    IMDb: 5.4   \n",
              "26  https://image.tmdb.org/t/p/w185/oKqMtssqFRrLCk...    IMDb: 2.6   \n",
              "27  https://image.tmdb.org/t/p/w185/vAGwA9SL1iVXwk...    IMDb: 5.7   \n",
              "28  https://image.tmdb.org/t/p/w185/qWBNPWSfwET3fT...    IMDb: N/A   \n",
              "29  https://image.tmdb.org/t/p/w185/ePXuKdXZuJx8hH...    IMDb: 7.3   \n",
              "30  https://image.tmdb.org/t/p/w185/sOqB9iMEcbGhAg...    IMDb: 7.6   \n",
              "31  https://image.tmdb.org/t/p/w185/llItP3ncQG7mTs...    IMDb: 5.4   \n",
              "32  https://image.tmdb.org/t/p/w185/s78wYZETv54v2S...    IMDb: N/A   \n",
              "33  https://image.tmdb.org/t/p/w185/tLFIMuPWJHlTJ6...    IMDb: N/A   \n",
              "34  https://image.tmdb.org/t/p/w185/6qq4lKGwXZO34B...    IMDb: 2.6   \n",
              "35  https://image.tmdb.org/t/p/w185/erKuvxvfdkUU1n...    IMDb: 6.8   \n",
              "36  https://image.tmdb.org/t/p/w185/la6BUTGhRHumNX...    IMDb: N/A   \n",
              "37  https://image.tmdb.org/t/p/w185/b9ykj4v8ykjRoG...    IMDb: N/A   \n",
              "38  https://image.tmdb.org/t/p/w185/lPzcizL8PdS2U1...    IMDb: 7.5   \n",
              "39  https://image.tmdb.org/t/p/w185/sN7FJP06TsNNtK...    IMDb: N/A   \n",
              "\n",
              "                                             Download  \n",
              "0   https://ytsyify.live/movie/doom-annihilation-2...  \n",
              "1               https://ytsyify.live/movie/doom-2005/  \n",
              "2       https://ytsyify.live/movie/dog-soldiers-2002/  \n",
              "3       https://ytsyify.live/movie/the-marine-2-2009/  \n",
              "4             https://ytsyify.live/movie/recoil-2011/  \n",
              "5          https://ytsyify.live/movie/free-ride-2013/  \n",
              "6        https://ytsyify.live/movie/lost-at-war-2007/  \n",
              "7             https://ytsyify.live/movie/bearry-2021/  \n",
              "8     https://ytsyify.live/movie/empire-of-lust-2015/  \n",
              "9   https://ytsyify.live/movie/restart-the-earth-2...  \n",
              "10  https://ytsyify.live/movie/morbius-2022-examin...  \n",
              "11  https://ytsyify.live/movie/thor-love-and-thund...  \n",
              "12  https://ytsyify.live/movie/doctor-strange-in-t...  \n",
              "13  https://ytsyify.live/movie/black-panther-wakan...  \n",
              "14  https://ytsyify.live/movie/carter-2022-examint...  \n",
              "15  https://ytsyify.live/movie/black-adam-2022-exa...  \n",
              "16  https://ytsyify.live/movie/mission-impossible-...  \n",
              "17  https://ytsyify.live/movie/dc-league-of-super-...  \n",
              "18  https://ytsyify.live/movie/avatar-2-2022-exami...  \n",
              "19  https://ytsyify.live/movie/prey-2022-examintor...  \n",
              "20  https://ytsyify.live/movie/the-batman-2022-exa...  \n",
              "21  https://ytsyify.live/movie/the-expendables-4-2...  \n",
              "22  https://ytsyify.live/movie/top-gun-maverick-20...  \n",
              "23  https://ytsyify.live/movie/the-gray-man-2022-e...  \n",
              "24  https://ytsyify.live/movie/emergency-declarati...  \n",
              "25      https://ytsyify.live/movie/the-big-bang-2011/  \n",
              "26      https://ytsyify.live/movie/grizzly-rage-2007/  \n",
              "27  https://ytsyify.live/movie/the-gang-that-sold-...  \n",
              "28        https://ytsyify.live/movie/kingslayer-2022/  \n",
              "29  https://ytsyify.live/movie/el-camino-a-breakin...  \n",
              "30  https://ytsyify.live/movie/die-hard-with-a-ven...  \n",
              "31  https://ytsyify.live/movie/attack-on-finland-2...  \n",
              "32        https://ytsyify.live/movie/deep-in-it-2022/  \n",
              "33  https://ytsyify.live/movie/end-of-the-road-202...  \n",
              "34         https://ytsyify.live/movie/crazy-six-1997/  \n",
              "35  https://ytsyify.live/movie/hansan-rising-drago...  \n",
              "36           https://ytsyify.live/movie/one-way-2022/  \n",
              "37         https://ytsyify.live/movie/wire-room-2022/  \n",
              "38    https://ytsyify.live/movie/the-little-guy-2022/  \n",
              "39  https://ytsyify.live/movie/groot-takes-a-bath-...  "
            ]
          },
          "execution_count": 54,
          "metadata": {},
          "output_type": "execute_result"
        }
      ],
      "source": [
        "pandas.read_csv('action.csv')"
      ]
    },
    {
      "cell_type": "code",
      "execution_count": null,
      "metadata": {
        "id": "pvOVKTNqkbi9",
        "outputId": "a47ecd36-e2c4-4a20-a2fc-08b8f266e985"
      },
      "outputs": [
        {
          "data": {
            "text/html": [
              "<div>\n",
              "<style scoped>\n",
              "    .dataframe tbody tr th:only-of-type {\n",
              "        vertical-align: middle;\n",
              "    }\n",
              "\n",
              "    .dataframe tbody tr th {\n",
              "        vertical-align: top;\n",
              "    }\n",
              "\n",
              "    .dataframe thead th {\n",
              "        text-align: right;\n",
              "    }\n",
              "</style>\n",
              "<table border=\"1\" class=\"dataframe\">\n",
              "  <thead>\n",
              "    <tr style=\"text-align: right;\">\n",
              "      <th></th>\n",
              "      <th>Movie_Name</th>\n",
              "      <th>Image_Link</th>\n",
              "      <th>IMDB_Ratings</th>\n",
              "      <th>Download</th>\n",
              "    </tr>\n",
              "  </thead>\n",
              "  <tbody>\n",
              "    <tr>\n",
              "      <th>0</th>\n",
              "      <td>Love Nonetheless (2022)</td>\n",
              "      <td>https://image.tmdb.org/t/p/w185/3iSO2QxyY4r30Q...</td>\n",
              "      <td>IMDb: N/A</td>\n",
              "      <td>https://ytsyify.live/movie/love-nonetheless-2022/</td>\n",
              "    </tr>\n",
              "    <tr>\n",
              "      <th>1</th>\n",
              "      <td>The Merry Widow (2007)</td>\n",
              "      <td>https://image.tmdb.org/t/p/w185/oauzSoL2gHokbv...</td>\n",
              "      <td>IMDb: 5.3</td>\n",
              "      <td>https://ytsyify.live/movie/the-merry-widow-2007/</td>\n",
              "    </tr>\n",
              "    <tr>\n",
              "      <th>2</th>\n",
              "      <td>Fatherland (1994)</td>\n",
              "      <td>https://image.tmdb.org/t/p/w185/8HbeLtS7FRaQ6Y...</td>\n",
              "      <td>IMDb: 6.4</td>\n",
              "      <td>https://ytsyify.live/movie/fatherland-1994/</td>\n",
              "    </tr>\n",
              "    <tr>\n",
              "      <th>3</th>\n",
              "      <td>Rosita (2015)</td>\n",
              "      <td>https://image.tmdb.org/t/p/w185/mExefbPnCH2bfe...</td>\n",
              "      <td>IMDb: 6.5</td>\n",
              "      <td>https://ytsyify.live/movie/rosita-2015/</td>\n",
              "    </tr>\n",
              "    <tr>\n",
              "      <th>4</th>\n",
              "      <td>I’ll Come Running (2008)</td>\n",
              "      <td>https://image.tmdb.org/t/p/w185/fx60AOZM2b0LOY...</td>\n",
              "      <td>IMDb: 6.6</td>\n",
              "      <td>https://ytsyify.live/movie/ill-come-running-2008/</td>\n",
              "    </tr>\n",
              "    <tr>\n",
              "      <th>5</th>\n",
              "      <td>Bearry (2021)</td>\n",
              "      <td>https://image.tmdb.org/t/p/w185/rjUVnC6itSxUPF...</td>\n",
              "      <td>IMDb: 3.5</td>\n",
              "      <td>https://ytsyify.live/movie/bearry-2021/</td>\n",
              "    </tr>\n",
              "    <tr>\n",
              "      <th>6</th>\n",
              "      <td>The Attraction Test (2022)</td>\n",
              "      <td>https://image.tmdb.org/t/p/w185/zwukL1kUeEq2Nj...</td>\n",
              "      <td>IMDb: N/A</td>\n",
              "      <td>https://ytsyify.live/movie/the-attraction-test...</td>\n",
              "    </tr>\n",
              "    <tr>\n",
              "      <th>7</th>\n",
              "      <td>Finding Hubby (2020)</td>\n",
              "      <td>https://image.tmdb.org/t/p/w185/sBCmm7sYip7JIO...</td>\n",
              "      <td>IMDb: 4.1</td>\n",
              "      <td>https://ytsyify.live/movie/finding-hubby-2020/</td>\n",
              "    </tr>\n",
              "    <tr>\n",
              "      <th>8</th>\n",
              "      <td>Snowed Inn Christmas (2017)</td>\n",
              "      <td>https://image.tmdb.org/t/p/w185/1GdsUysHya4mdl...</td>\n",
              "      <td>IMDb: 7.2</td>\n",
              "      <td>https://ytsyify.live/movie/snowed-inn-christma...</td>\n",
              "    </tr>\n",
              "    <tr>\n",
              "      <th>9</th>\n",
              "      <td>Empire Of Lust (2015)</td>\n",
              "      <td>https://image.tmdb.org/t/p/w185/bT25JmqjEwPJyS...</td>\n",
              "      <td>IMDb: 6.0</td>\n",
              "      <td>https://ytsyify.live/movie/empire-of-lust-2015/</td>\n",
              "    </tr>\n",
              "    <tr>\n",
              "      <th>10</th>\n",
              "      <td>The Next 365 Days (2022)</td>\n",
              "      <td>https://image.tmdb.org/t/p/w185/6FsGeIp7heHm5e...</td>\n",
              "      <td>IMDb: N/A</td>\n",
              "      <td>https://ytsyify.live/movie/the-next-365-days-2...</td>\n",
              "    </tr>\n",
              "    <tr>\n",
              "      <th>11</th>\n",
              "      <td>Firebird (2021)</td>\n",
              "      <td>https://image.tmdb.org/t/p/w185/uECWNRjCEwewHB...</td>\n",
              "      <td>IMDb: 7.1</td>\n",
              "      <td>https://ytsyify.live/movie/firebird-2021/</td>\n",
              "    </tr>\n",
              "    <tr>\n",
              "      <th>12</th>\n",
              "      <td>Both Sides of the Blade (2022)</td>\n",
              "      <td>https://image.tmdb.org/t/p/w185/w0jUcrS42AyPNg...</td>\n",
              "      <td>IMDb: 6.7</td>\n",
              "      <td>https://ytsyify.live/movie/both-sides-of-the-b...</td>\n",
              "    </tr>\n",
              "    <tr>\n",
              "      <th>13</th>\n",
              "      <td>Marry Go Round (2022)</td>\n",
              "      <td>https://image.tmdb.org/t/p/w185/w6K6XXzl9uzUlG...</td>\n",
              "      <td>IMDb: 6.3</td>\n",
              "      <td>https://ytsyify.live/movie/marry-go-round-2022/</td>\n",
              "    </tr>\n",
              "    <tr>\n",
              "      <th>14</th>\n",
              "      <td>Caribbean Summer (2022)</td>\n",
              "      <td>https://image.tmdb.org/t/p/w185/2kiRSeVBL4PC2W...</td>\n",
              "      <td>IMDb: 6.6</td>\n",
              "      <td>https://ytsyify.live/movie/caribbean-summer-2022/</td>\n",
              "    </tr>\n",
              "    <tr>\n",
              "      <th>15</th>\n",
              "      <td>Marry Me in Yosemite (2022)</td>\n",
              "      <td>https://image.tmdb.org/t/p/w185/vT5bCzDoti5YW4...</td>\n",
              "      <td>IMDb: N/A</td>\n",
              "      <td>https://ytsyify.live/movie/marry-me-in-yosemit...</td>\n",
              "    </tr>\n",
              "    <tr>\n",
              "      <th>16</th>\n",
              "      <td>Love’s Portrait (2022)</td>\n",
              "      <td>https://image.tmdb.org/t/p/w185/bruu8xqokNOkSS...</td>\n",
              "      <td>IMDb: 7.2</td>\n",
              "      <td>https://ytsyify.live/movie/loves-portrait-2022/</td>\n",
              "    </tr>\n",
              "    <tr>\n",
              "      <th>17</th>\n",
              "      <td>Nina Takes a Lover (1994)</td>\n",
              "      <td>https://image.tmdb.org/t/p/w185/mSPoA8exUsNThC...</td>\n",
              "      <td>IMDb: 5.5</td>\n",
              "      <td>https://ytsyify.live/movie/nina-takes-a-lover-...</td>\n",
              "    </tr>\n",
              "    <tr>\n",
              "      <th>18</th>\n",
              "      <td>Carmen (2003)</td>\n",
              "      <td>https://image.tmdb.org/t/p/w185/6lmfWnwLE66sKW...</td>\n",
              "      <td>IMDb: 6.1</td>\n",
              "      <td>https://ytsyify.live/movie/carmen-2003/</td>\n",
              "    </tr>\n",
              "    <tr>\n",
              "      <th>19</th>\n",
              "      <td>Three Thousand Years of Longing (2022)</td>\n",
              "      <td>https://image.tmdb.org/t/p/w185/nS7DNl4A7XnDnc...</td>\n",
              "      <td>IMDb: 6.9</td>\n",
              "      <td>https://ytsyify.live/movie/three-thousand-year...</td>\n",
              "    </tr>\n",
              "    <tr>\n",
              "      <th>20</th>\n",
              "      <td>Come Closer (2021)</td>\n",
              "      <td>https://image.tmdb.org/t/p/w185/ujwTwSnn0oIVCp...</td>\n",
              "      <td>IMDb: N/A</td>\n",
              "      <td>https://ytsyify.live/movie/come-closer-2021/</td>\n",
              "    </tr>\n",
              "    <tr>\n",
              "      <th>21</th>\n",
              "      <td>Cabin Connection (2022)</td>\n",
              "      <td>https://image.tmdb.org/t/p/w185/bPz39HxsNWhdiz...</td>\n",
              "      <td>IMDb: N/A</td>\n",
              "      <td>https://ytsyify.live/movie/cabin-connection-2022/</td>\n",
              "    </tr>\n",
              "    <tr>\n",
              "      <th>22</th>\n",
              "      <td>2 to Tangle (2013)</td>\n",
              "      <td>https://image.tmdb.org/t/p/w185/pdCmskmueyrzH0...</td>\n",
              "      <td>IMDb: 5.6</td>\n",
              "      <td>https://ytsyify.live/movie/2-to-tangle-2013/</td>\n",
              "    </tr>\n",
              "    <tr>\n",
              "      <th>23</th>\n",
              "      <td>About Fate (2022)</td>\n",
              "      <td>https://image.tmdb.org/t/p/w185/9GcpyEtyfOreHe...</td>\n",
              "      <td>IMDb: N/A</td>\n",
              "      <td>https://ytsyify.live/movie/about-fate-2022/</td>\n",
              "    </tr>\n",
              "    <tr>\n",
              "      <th>24</th>\n",
              "      <td>The Time Capsule (2022)</td>\n",
              "      <td>https://image.tmdb.org/t/p/w185/c12EChMNDP11dJ...</td>\n",
              "      <td>IMDb: 6.6</td>\n",
              "      <td>https://ytsyify.live/movie/the-time-capsule-2022/</td>\n",
              "    </tr>\n",
              "    <tr>\n",
              "      <th>25</th>\n",
              "      <td>No Limit (2022)</td>\n",
              "      <td>https://image.tmdb.org/t/p/w185/fUdeneiMUQkE1Y...</td>\n",
              "      <td>IMDb: N/A</td>\n",
              "      <td>https://ytsyify.live/movie/no-limit-2022/</td>\n",
              "    </tr>\n",
              "    <tr>\n",
              "      <th>26</th>\n",
              "      <td>Rendez-vous (1985)</td>\n",
              "      <td>https://image.tmdb.org/t/p/w185/rICHxS03w4peWx...</td>\n",
              "      <td>IMDb: 6.5</td>\n",
              "      <td>https://ytsyify.live/movie/rendez-vous-1985/</td>\n",
              "    </tr>\n",
              "    <tr>\n",
              "      <th>27</th>\n",
              "      <td>Yellowstone Romance (2022)</td>\n",
              "      <td>https://image.tmdb.org/t/p/w185/sox6LCMuJsvDQ3...</td>\n",
              "      <td>IMDb: 6.1</td>\n",
              "      <td>https://ytsyify.live/movie/yellowstone-romance...</td>\n",
              "    </tr>\n",
              "    <tr>\n",
              "      <th>28</th>\n",
              "      <td>Love in the Villa (2022)</td>\n",
              "      <td>https://image.tmdb.org/t/p/w185/t92CXfEP5aWBAT...</td>\n",
              "      <td>IMDb: N/A</td>\n",
              "      <td>https://ytsyify.live/movie/love-in-the-villa-2...</td>\n",
              "    </tr>\n",
              "    <tr>\n",
              "      <th>29</th>\n",
              "      <td>The Journey Ahead (2022)</td>\n",
              "      <td>https://image.tmdb.org/t/p/w185/iv3K4tY70phKea...</td>\n",
              "      <td>IMDb: N/A</td>\n",
              "      <td>https://ytsyify.live/movie/the-journey-ahead-2...</td>\n",
              "    </tr>\n",
              "    <tr>\n",
              "      <th>30</th>\n",
              "      <td>Dating the Delaneys (2022)</td>\n",
              "      <td>https://image.tmdb.org/t/p/w185/czsaMVH4NCAX4M...</td>\n",
              "      <td>IMDb: 7.2</td>\n",
              "      <td>https://ytsyify.live/movie/dating-the-delaneys...</td>\n",
              "    </tr>\n",
              "    <tr>\n",
              "      <th>31</th>\n",
              "      <td>The Blue Skies at Your Feet (2022)</td>\n",
              "      <td>https://image.tmdb.org/t/p/w185/21pUJh8xlc1D1J...</td>\n",
              "      <td>IMDb: N/A</td>\n",
              "      <td>https://ytsyify.live/movie/the-blue-skies-at-y...</td>\n",
              "    </tr>\n",
              "    <tr>\n",
              "      <th>32</th>\n",
              "      <td>Untangled (2022)</td>\n",
              "      <td>https://image.tmdb.org/t/p/w185/mxp1Tm04r1mJOO...</td>\n",
              "      <td>IMDb: N/A</td>\n",
              "      <td>https://ytsyify.live/movie/untangled-2022/</td>\n",
              "    </tr>\n",
              "    <tr>\n",
              "      <th>33</th>\n",
              "      <td>Burden (2022)</td>\n",
              "      <td>https://image.tmdb.org/t/p/w185/htXlygzU0NKLgc...</td>\n",
              "      <td>IMDb: 7.4</td>\n",
              "      <td>https://ytsyify.live/movie/burden-2022/</td>\n",
              "    </tr>\n",
              "    <tr>\n",
              "      <th>34</th>\n",
              "      <td>Love Under the Lemon Tree (2022)</td>\n",
              "      <td>https://image.tmdb.org/t/p/w185/fphrkdkGxLKLyc...</td>\n",
              "      <td>IMDb: 6.3</td>\n",
              "      <td>https://ytsyify.live/movie/love-under-the-lemo...</td>\n",
              "    </tr>\n",
              "    <tr>\n",
              "      <th>35</th>\n",
              "      <td>Nude Tuesday (2022)</td>\n",
              "      <td>https://image.tmdb.org/t/p/w185/rWkhNu84tmHMok...</td>\n",
              "      <td>IMDb: 5.7</td>\n",
              "      <td>https://ytsyify.live/movie/nude-tuesday-2022/</td>\n",
              "    </tr>\n",
              "    <tr>\n",
              "      <th>36</th>\n",
              "      <td>Resisting Roots (2022)</td>\n",
              "      <td>https://image.tmdb.org/t/p/w185/3lc9Vm9eGfMUCJ...</td>\n",
              "      <td>IMDb: 5.6</td>\n",
              "      <td>https://ytsyify.live/movie/resisting-roots-2022/</td>\n",
              "    </tr>\n",
              "    <tr>\n",
              "      <th>37</th>\n",
              "      <td>The Engagement Back-Up (2022)</td>\n",
              "      <td>https://image.tmdb.org/t/p/w185/jfAZQwr3dyQ7xy...</td>\n",
              "      <td>IMDb: 6.1</td>\n",
              "      <td>https://ytsyify.live/movie/the-engagement-back...</td>\n",
              "    </tr>\n",
              "    <tr>\n",
              "      <th>38</th>\n",
              "      <td>Big Sky River (2022)</td>\n",
              "      <td>https://image.tmdb.org/t/p/w185/64xEn5k3clTLfl...</td>\n",
              "      <td>IMDb: 7.1</td>\n",
              "      <td>https://ytsyify.live/movie/big-sky-river-2022/</td>\n",
              "    </tr>\n",
              "    <tr>\n",
              "      <th>39</th>\n",
              "      <td>Romance In Style (2022)</td>\n",
              "      <td>https://image.tmdb.org/t/p/w185/vIDl3wM1d59qr9...</td>\n",
              "      <td>IMDb: 8.1</td>\n",
              "      <td>https://ytsyify.live/movie/romance-in-style-2022/</td>\n",
              "    </tr>\n",
              "  </tbody>\n",
              "</table>\n",
              "</div>"
            ],
            "text/plain": [
              "                                Movie_Name  \\\n",
              "0                  Love Nonetheless (2022)   \n",
              "1                   The Merry Widow (2007)   \n",
              "2                        Fatherland (1994)   \n",
              "3                            Rosita (2015)   \n",
              "4                 I’ll Come Running (2008)   \n",
              "5                            Bearry (2021)   \n",
              "6               The Attraction Test (2022)   \n",
              "7                     Finding Hubby (2020)   \n",
              "8              Snowed Inn Christmas (2017)   \n",
              "9                    Empire Of Lust (2015)   \n",
              "10                The Next 365 Days (2022)   \n",
              "11                         Firebird (2021)   \n",
              "12          Both Sides of the Blade (2022)   \n",
              "13                   Marry Go Round (2022)   \n",
              "14                 Caribbean Summer (2022)   \n",
              "15             Marry Me in Yosemite (2022)   \n",
              "16                  Love’s Portrait (2022)   \n",
              "17               Nina Takes a Lover (1994)   \n",
              "18                           Carmen (2003)   \n",
              "19  Three Thousand Years of Longing (2022)   \n",
              "20                      Come Closer (2021)   \n",
              "21                 Cabin Connection (2022)   \n",
              "22                      2 to Tangle (2013)   \n",
              "23                       About Fate (2022)   \n",
              "24                 The Time Capsule (2022)   \n",
              "25                         No Limit (2022)   \n",
              "26                      Rendez-vous (1985)   \n",
              "27              Yellowstone Romance (2022)   \n",
              "28                Love in the Villa (2022)   \n",
              "29                The Journey Ahead (2022)   \n",
              "30              Dating the Delaneys (2022)   \n",
              "31      The Blue Skies at Your Feet (2022)   \n",
              "32                        Untangled (2022)   \n",
              "33                           Burden (2022)   \n",
              "34        Love Under the Lemon Tree (2022)   \n",
              "35                     Nude Tuesday (2022)   \n",
              "36                  Resisting Roots (2022)   \n",
              "37           The Engagement Back-Up (2022)   \n",
              "38                    Big Sky River (2022)   \n",
              "39                 Romance In Style (2022)   \n",
              "\n",
              "                                           Image_Link IMDB_Ratings  \\\n",
              "0   https://image.tmdb.org/t/p/w185/3iSO2QxyY4r30Q...    IMDb: N/A   \n",
              "1   https://image.tmdb.org/t/p/w185/oauzSoL2gHokbv...    IMDb: 5.3   \n",
              "2   https://image.tmdb.org/t/p/w185/8HbeLtS7FRaQ6Y...    IMDb: 6.4   \n",
              "3   https://image.tmdb.org/t/p/w185/mExefbPnCH2bfe...    IMDb: 6.5   \n",
              "4   https://image.tmdb.org/t/p/w185/fx60AOZM2b0LOY...    IMDb: 6.6   \n",
              "5   https://image.tmdb.org/t/p/w185/rjUVnC6itSxUPF...    IMDb: 3.5   \n",
              "6   https://image.tmdb.org/t/p/w185/zwukL1kUeEq2Nj...    IMDb: N/A   \n",
              "7   https://image.tmdb.org/t/p/w185/sBCmm7sYip7JIO...    IMDb: 4.1   \n",
              "8   https://image.tmdb.org/t/p/w185/1GdsUysHya4mdl...    IMDb: 7.2   \n",
              "9   https://image.tmdb.org/t/p/w185/bT25JmqjEwPJyS...    IMDb: 6.0   \n",
              "10  https://image.tmdb.org/t/p/w185/6FsGeIp7heHm5e...    IMDb: N/A   \n",
              "11  https://image.tmdb.org/t/p/w185/uECWNRjCEwewHB...    IMDb: 7.1   \n",
              "12  https://image.tmdb.org/t/p/w185/w0jUcrS42AyPNg...    IMDb: 6.7   \n",
              "13  https://image.tmdb.org/t/p/w185/w6K6XXzl9uzUlG...    IMDb: 6.3   \n",
              "14  https://image.tmdb.org/t/p/w185/2kiRSeVBL4PC2W...    IMDb: 6.6   \n",
              "15  https://image.tmdb.org/t/p/w185/vT5bCzDoti5YW4...    IMDb: N/A   \n",
              "16  https://image.tmdb.org/t/p/w185/bruu8xqokNOkSS...    IMDb: 7.2   \n",
              "17  https://image.tmdb.org/t/p/w185/mSPoA8exUsNThC...    IMDb: 5.5   \n",
              "18  https://image.tmdb.org/t/p/w185/6lmfWnwLE66sKW...    IMDb: 6.1   \n",
              "19  https://image.tmdb.org/t/p/w185/nS7DNl4A7XnDnc...    IMDb: 6.9   \n",
              "20  https://image.tmdb.org/t/p/w185/ujwTwSnn0oIVCp...    IMDb: N/A   \n",
              "21  https://image.tmdb.org/t/p/w185/bPz39HxsNWhdiz...    IMDb: N/A   \n",
              "22  https://image.tmdb.org/t/p/w185/pdCmskmueyrzH0...    IMDb: 5.6   \n",
              "23  https://image.tmdb.org/t/p/w185/9GcpyEtyfOreHe...    IMDb: N/A   \n",
              "24  https://image.tmdb.org/t/p/w185/c12EChMNDP11dJ...    IMDb: 6.6   \n",
              "25  https://image.tmdb.org/t/p/w185/fUdeneiMUQkE1Y...    IMDb: N/A   \n",
              "26  https://image.tmdb.org/t/p/w185/rICHxS03w4peWx...    IMDb: 6.5   \n",
              "27  https://image.tmdb.org/t/p/w185/sox6LCMuJsvDQ3...    IMDb: 6.1   \n",
              "28  https://image.tmdb.org/t/p/w185/t92CXfEP5aWBAT...    IMDb: N/A   \n",
              "29  https://image.tmdb.org/t/p/w185/iv3K4tY70phKea...    IMDb: N/A   \n",
              "30  https://image.tmdb.org/t/p/w185/czsaMVH4NCAX4M...    IMDb: 7.2   \n",
              "31  https://image.tmdb.org/t/p/w185/21pUJh8xlc1D1J...    IMDb: N/A   \n",
              "32  https://image.tmdb.org/t/p/w185/mxp1Tm04r1mJOO...    IMDb: N/A   \n",
              "33  https://image.tmdb.org/t/p/w185/htXlygzU0NKLgc...    IMDb: 7.4   \n",
              "34  https://image.tmdb.org/t/p/w185/fphrkdkGxLKLyc...    IMDb: 6.3   \n",
              "35  https://image.tmdb.org/t/p/w185/rWkhNu84tmHMok...    IMDb: 5.7   \n",
              "36  https://image.tmdb.org/t/p/w185/3lc9Vm9eGfMUCJ...    IMDb: 5.6   \n",
              "37  https://image.tmdb.org/t/p/w185/jfAZQwr3dyQ7xy...    IMDb: 6.1   \n",
              "38  https://image.tmdb.org/t/p/w185/64xEn5k3clTLfl...    IMDb: 7.1   \n",
              "39  https://image.tmdb.org/t/p/w185/vIDl3wM1d59qr9...    IMDb: 8.1   \n",
              "\n",
              "                                             Download  \n",
              "0   https://ytsyify.live/movie/love-nonetheless-2022/  \n",
              "1    https://ytsyify.live/movie/the-merry-widow-2007/  \n",
              "2         https://ytsyify.live/movie/fatherland-1994/  \n",
              "3             https://ytsyify.live/movie/rosita-2015/  \n",
              "4   https://ytsyify.live/movie/ill-come-running-2008/  \n",
              "5             https://ytsyify.live/movie/bearry-2021/  \n",
              "6   https://ytsyify.live/movie/the-attraction-test...  \n",
              "7      https://ytsyify.live/movie/finding-hubby-2020/  \n",
              "8   https://ytsyify.live/movie/snowed-inn-christma...  \n",
              "9     https://ytsyify.live/movie/empire-of-lust-2015/  \n",
              "10  https://ytsyify.live/movie/the-next-365-days-2...  \n",
              "11          https://ytsyify.live/movie/firebird-2021/  \n",
              "12  https://ytsyify.live/movie/both-sides-of-the-b...  \n",
              "13    https://ytsyify.live/movie/marry-go-round-2022/  \n",
              "14  https://ytsyify.live/movie/caribbean-summer-2022/  \n",
              "15  https://ytsyify.live/movie/marry-me-in-yosemit...  \n",
              "16    https://ytsyify.live/movie/loves-portrait-2022/  \n",
              "17  https://ytsyify.live/movie/nina-takes-a-lover-...  \n",
              "18            https://ytsyify.live/movie/carmen-2003/  \n",
              "19  https://ytsyify.live/movie/three-thousand-year...  \n",
              "20       https://ytsyify.live/movie/come-closer-2021/  \n",
              "21  https://ytsyify.live/movie/cabin-connection-2022/  \n",
              "22       https://ytsyify.live/movie/2-to-tangle-2013/  \n",
              "23        https://ytsyify.live/movie/about-fate-2022/  \n",
              "24  https://ytsyify.live/movie/the-time-capsule-2022/  \n",
              "25          https://ytsyify.live/movie/no-limit-2022/  \n",
              "26       https://ytsyify.live/movie/rendez-vous-1985/  \n",
              "27  https://ytsyify.live/movie/yellowstone-romance...  \n",
              "28  https://ytsyify.live/movie/love-in-the-villa-2...  \n",
              "29  https://ytsyify.live/movie/the-journey-ahead-2...  \n",
              "30  https://ytsyify.live/movie/dating-the-delaneys...  \n",
              "31  https://ytsyify.live/movie/the-blue-skies-at-y...  \n",
              "32         https://ytsyify.live/movie/untangled-2022/  \n",
              "33            https://ytsyify.live/movie/burden-2022/  \n",
              "34  https://ytsyify.live/movie/love-under-the-lemo...  \n",
              "35      https://ytsyify.live/movie/nude-tuesday-2022/  \n",
              "36   https://ytsyify.live/movie/resisting-roots-2022/  \n",
              "37  https://ytsyify.live/movie/the-engagement-back...  \n",
              "38     https://ytsyify.live/movie/big-sky-river-2022/  \n",
              "39  https://ytsyify.live/movie/romance-in-style-2022/  "
            ]
          },
          "execution_count": 55,
          "metadata": {},
          "output_type": "execute_result"
        }
      ],
      "source": [
        "pandas.read_csv('romance.csv')"
      ]
    },
    {
      "cell_type": "code",
      "execution_count": null,
      "metadata": {
        "id": "suFw-8Lnkbi9",
        "outputId": "8d1011de-9f05-4271-b424-ee7558a43a22"
      },
      "outputs": [
        {
          "data": {
            "text/html": [
              "<div>\n",
              "<style scoped>\n",
              "    .dataframe tbody tr th:only-of-type {\n",
              "        vertical-align: middle;\n",
              "    }\n",
              "\n",
              "    .dataframe tbody tr th {\n",
              "        vertical-align: top;\n",
              "    }\n",
              "\n",
              "    .dataframe thead th {\n",
              "        text-align: right;\n",
              "    }\n",
              "</style>\n",
              "<table border=\"1\" class=\"dataframe\">\n",
              "  <thead>\n",
              "    <tr style=\"text-align: right;\">\n",
              "      <th></th>\n",
              "      <th>Movie_Name</th>\n",
              "      <th>Image_Link</th>\n",
              "      <th>IMDB_Ratings</th>\n",
              "      <th>Download</th>\n",
              "    </tr>\n",
              "  </thead>\n",
              "  <tbody>\n",
              "    <tr>\n",
              "      <th>0</th>\n",
              "      <td>Doom: Annihilation (2019)</td>\n",
              "      <td>https://image.tmdb.org/t/p/w185/7EGElXVSNnqcPj...</td>\n",
              "      <td>IMDb: 3.7</td>\n",
              "      <td>https://ytsyify.live/movie/doom-annihilation-2...</td>\n",
              "    </tr>\n",
              "    <tr>\n",
              "      <th>1</th>\n",
              "      <td>Doom (2005)</td>\n",
              "      <td>https://image.tmdb.org/t/p/w185/eVjlW6aOjqEohH...</td>\n",
              "      <td>IMDb: 5.2</td>\n",
              "      <td>https://ytsyify.live/movie/doom-2005/</td>\n",
              "    </tr>\n",
              "    <tr>\n",
              "      <th>2</th>\n",
              "      <td>Dog Soldiers (2002)</td>\n",
              "      <td>https://image.tmdb.org/t/p/w185/39B0B9v089W4wy...</td>\n",
              "      <td>IMDb: 6.8</td>\n",
              "      <td>https://ytsyify.live/movie/dog-soldiers-2002/</td>\n",
              "    </tr>\n",
              "    <tr>\n",
              "      <th>3</th>\n",
              "      <td>The Curse of All Hallows’ Eve (2017)</td>\n",
              "      <td>https://image.tmdb.org/t/p/w185/aA1jOI27cN9IVi...</td>\n",
              "      <td>IMDb: 4.6</td>\n",
              "      <td>https://ytsyify.live/movie/the-curse-of-all-ha...</td>\n",
              "    </tr>\n",
              "    <tr>\n",
              "      <th>4</th>\n",
              "      <td>The Damned (2013)</td>\n",
              "      <td>https://image.tmdb.org/t/p/w185/jtTlnB7jOfEBiK...</td>\n",
              "      <td>IMDb: 5.2</td>\n",
              "      <td>https://ytsyify.live/movie/the-damned-2013/</td>\n",
              "    </tr>\n",
              "    <tr>\n",
              "      <th>5</th>\n",
              "      <td>The Invitation (2022)</td>\n",
              "      <td>https://image.tmdb.org/t/p/w185/jcTq6gIskCsHlK...</td>\n",
              "      <td>IMDb: 5.4</td>\n",
              "      <td>https://ytsyify.live/movie/the-invitation-2022/</td>\n",
              "    </tr>\n",
              "    <tr>\n",
              "      <th>6</th>\n",
              "      <td>Mansion of Blood (2015)</td>\n",
              "      <td>https://image.tmdb.org/t/p/w185/c31XK5G3h8oO9X...</td>\n",
              "      <td>IMDb: 5.1</td>\n",
              "      <td>https://ytsyify.live/movie/mansion-of-blood-2015/</td>\n",
              "    </tr>\n",
              "    <tr>\n",
              "      <th>7</th>\n",
              "      <td>Goodnight Mommy (2022)</td>\n",
              "      <td>https://image.tmdb.org/t/p/w185/oHhD5jD4S5ElPN...</td>\n",
              "      <td>IMDb: N/A</td>\n",
              "      <td>https://ytsyify.live/movie/goodnight-mommy-2022/</td>\n",
              "    </tr>\n",
              "    <tr>\n",
              "      <th>8</th>\n",
              "      <td>Inside (2016)</td>\n",
              "      <td>https://image.tmdb.org/t/p/w185/1PSctD5yezkDKl...</td>\n",
              "      <td>IMDb: 4.7</td>\n",
              "      <td>https://ytsyify.live/movie/inside-2016/</td>\n",
              "    </tr>\n",
              "    <tr>\n",
              "      <th>9</th>\n",
              "      <td>The Retreat (2021)</td>\n",
              "      <td>https://image.tmdb.org/t/p/w185/xDlc336bLsy9dg...</td>\n",
              "      <td>IMDb: 4.7</td>\n",
              "      <td>https://ytsyify.live/movie/the-retreat-2021/</td>\n",
              "    </tr>\n",
              "    <tr>\n",
              "      <th>10</th>\n",
              "      <td>Bearry (2021)</td>\n",
              "      <td>https://image.tmdb.org/t/p/w185/rjUVnC6itSxUPF...</td>\n",
              "      <td>IMDb: 3.5</td>\n",
              "      <td>https://ytsyify.live/movie/bearry-2021/</td>\n",
              "    </tr>\n",
              "    <tr>\n",
              "      <th>11</th>\n",
              "      <td>The Curse of the Werewolf (1961)</td>\n",
              "      <td>https://image.tmdb.org/t/p/w185/nwtxrG9jd5ge1n...</td>\n",
              "      <td>IMDb: 6.5</td>\n",
              "      <td>https://ytsyify.live/movie/the-curse-of-the-we...</td>\n",
              "    </tr>\n",
              "    <tr>\n",
              "      <th>12</th>\n",
              "      <td>Beast (2022)</td>\n",
              "      <td>https://image.tmdb.org/t/p/w185/kgRQT0Djf6wnYC...</td>\n",
              "      <td>IMDb: N/A</td>\n",
              "      <td>https://ytsyify.live/movie/beast-2022-examinto...</td>\n",
              "    </tr>\n",
              "    <tr>\n",
              "      <th>13</th>\n",
              "      <td>Prey (2022)</td>\n",
              "      <td>https://image.tmdb.org/t/p/w185/w0SmlSPVodSDGt...</td>\n",
              "      <td>IMDb: N/A</td>\n",
              "      <td>https://ytsyify.live/movie/prey-2022-examintor...</td>\n",
              "    </tr>\n",
              "    <tr>\n",
              "      <th>14</th>\n",
              "      <td>Grizzly Rage (2007)</td>\n",
              "      <td>https://image.tmdb.org/t/p/w185/oKqMtssqFRrLCk...</td>\n",
              "      <td>IMDb: 2.6</td>\n",
              "      <td>https://ytsyify.live/movie/grizzly-rage-2007/</td>\n",
              "    </tr>\n",
              "    <tr>\n",
              "      <th>15</th>\n",
              "      <td>Slapface (2022)</td>\n",
              "      <td>https://image.tmdb.org/t/p/w185/xFR5TrTfhjaKN2...</td>\n",
              "      <td>IMDb: 5.1</td>\n",
              "      <td>https://ytsyify.live/movie/slapface-2022/</td>\n",
              "    </tr>\n",
              "    <tr>\n",
              "      <th>16</th>\n",
              "      <td>House of Darkness (2022)</td>\n",
              "      <td>https://image.tmdb.org/t/p/w185/zJ6OYkQTmTtFaj...</td>\n",
              "      <td>IMDb: N/A</td>\n",
              "      <td>https://ytsyify.live/movie/house-of-darkness-2...</td>\n",
              "    </tr>\n",
              "    <tr>\n",
              "      <th>17</th>\n",
              "      <td>The Red Book Ritual (2022)</td>\n",
              "      <td>https://image.tmdb.org/t/p/w185/bSUOMkrd63SHKz...</td>\n",
              "      <td>IMDb: N/A</td>\n",
              "      <td>https://ytsyify.live/movie/the-red-book-ritual...</td>\n",
              "    </tr>\n",
              "    <tr>\n",
              "      <th>18</th>\n",
              "      <td>It Hatched (2021)</td>\n",
              "      <td>https://image.tmdb.org/t/p/w185/mkSlvjwXdyPLCi...</td>\n",
              "      <td>IMDb: N/A</td>\n",
              "      <td>https://ytsyify.live/movie/it-hatched-2021/</td>\n",
              "    </tr>\n",
              "    <tr>\n",
              "      <th>19</th>\n",
              "      <td>The Feast (2021)</td>\n",
              "      <td>https://image.tmdb.org/t/p/w185/7CHTcbtIKuKOzt...</td>\n",
              "      <td>IMDb: N/A</td>\n",
              "      <td>https://ytsyify.live/movie/the-feast-2021/</td>\n",
              "    </tr>\n",
              "    <tr>\n",
              "      <th>20</th>\n",
              "      <td>Saloum (2021)</td>\n",
              "      <td>https://image.tmdb.org/t/p/w185/yEWO77ClYNqNGM...</td>\n",
              "      <td>IMDb: 6.6</td>\n",
              "      <td>https://ytsyify.live/movie/saloum-2021/</td>\n",
              "    </tr>\n",
              "    <tr>\n",
              "      <th>21</th>\n",
              "      <td>Horror in the High Desert (2021)</td>\n",
              "      <td>https://image.tmdb.org/t/p/w185/s1D5ZGgbxVgQHw...</td>\n",
              "      <td>IMDb: 5.4</td>\n",
              "      <td>https://ytsyify.live/movie/horror-in-the-high-...</td>\n",
              "    </tr>\n",
              "    <tr>\n",
              "      <th>22</th>\n",
              "      <td>Margaux (2022)</td>\n",
              "      <td>https://image.tmdb.org/t/p/w185/y3tFfuXn3IoBuf...</td>\n",
              "      <td>IMDb: N/A</td>\n",
              "      <td>https://ytsyify.live/movie/margaux-2022/</td>\n",
              "    </tr>\n",
              "    <tr>\n",
              "      <th>23</th>\n",
              "      <td>The Harbinger (2022)</td>\n",
              "      <td>https://image.tmdb.org/t/p/w185/e7qlOysRTnpNKi...</td>\n",
              "      <td>IMDb: 3.4</td>\n",
              "      <td>https://ytsyify.live/movie/the-harbinger-2022/</td>\n",
              "    </tr>\n",
              "    <tr>\n",
              "      <th>24</th>\n",
              "      <td>Tiny Cinema (2022)</td>\n",
              "      <td>https://image.tmdb.org/t/p/w185/haymRE8d8rCNol...</td>\n",
              "      <td>IMDb: N/A</td>\n",
              "      <td>https://ytsyify.live/movie/tiny-cinema-2022/</td>\n",
              "    </tr>\n",
              "    <tr>\n",
              "      <th>25</th>\n",
              "      <td>Something in the Woods (2022)</td>\n",
              "      <td>https://image.tmdb.org/t/p/w185/4Oqw4nTrymhkql...</td>\n",
              "      <td>IMDb: N/A</td>\n",
              "      <td>https://ytsyify.live/movie/something-in-the-wo...</td>\n",
              "    </tr>\n",
              "    <tr>\n",
              "      <th>26</th>\n",
              "      <td>HollyBlood (2022)</td>\n",
              "      <td>https://image.tmdb.org/t/p/w185/lcFw1XS35ULWwZ...</td>\n",
              "      <td>IMDb: N/A</td>\n",
              "      <td>https://ytsyify.live/movie/hollyblood-2022/</td>\n",
              "    </tr>\n",
              "    <tr>\n",
              "      <th>27</th>\n",
              "      <td>Nope (2022)</td>\n",
              "      <td>https://image.tmdb.org/t/p/w185/AcKVlWaNVVVFQw...</td>\n",
              "      <td>IMDb: N/A</td>\n",
              "      <td>https://ytsyify.live/movie/nope-2022-examintor...</td>\n",
              "    </tr>\n",
              "    <tr>\n",
              "      <th>28</th>\n",
              "      <td>The Babysitter: Killer Queen (2020)</td>\n",
              "      <td>https://image.tmdb.org/t/p/w185/imy1OoT1xddt2k...</td>\n",
              "      <td>IMDb: 5.8</td>\n",
              "      <td>https://ytsyify.live/movie/the-babysitter-kill...</td>\n",
              "    </tr>\n",
              "    <tr>\n",
              "      <th>29</th>\n",
              "      <td>The Babysitter (2017)</td>\n",
              "      <td>https://image.tmdb.org/t/p/w185/86a7GRVRCwfl7w...</td>\n",
              "      <td>IMDb: 6.3</td>\n",
              "      <td>https://ytsyify.live/movie/the-babysitter-2017/</td>\n",
              "    </tr>\n",
              "    <tr>\n",
              "      <th>30</th>\n",
              "      <td>SLR (2022)</td>\n",
              "      <td>https://image.tmdb.org/t/p/w185/mHQDLK9DZ5lULe...</td>\n",
              "      <td>IMDb: N/A</td>\n",
              "      <td>https://ytsyify.live/movie/slr-2022/</td>\n",
              "    </tr>\n",
              "    <tr>\n",
              "      <th>31</th>\n",
              "      <td>Orphan: First Kill (2022)</td>\n",
              "      <td>https://image.tmdb.org/t/p/w185/cQYfh1jWzeizgJ...</td>\n",
              "      <td>IMDb: 6.0</td>\n",
              "      <td>https://ytsyify.live/movie/orphan-first-kill-2...</td>\n",
              "    </tr>\n",
              "    <tr>\n",
              "      <th>32</th>\n",
              "      <td>The Cellar (2022)</td>\n",
              "      <td>https://image.tmdb.org/t/p/w185/2rlLgZdKC9UhzI...</td>\n",
              "      <td>IMDb: 6.1</td>\n",
              "      <td>https://ytsyify.live/movie/the-cellar-2022-beg...</td>\n",
              "    </tr>\n",
              "    <tr>\n",
              "      <th>33</th>\n",
              "      <td>Allegoria (2022)</td>\n",
              "      <td>https://image.tmdb.org/t/p/w185/b8QfIeN7J0Qs0c...</td>\n",
              "      <td>IMDb: N/A</td>\n",
              "      <td>https://ytsyify.live/movie/allegoria-2022-span...</td>\n",
              "    </tr>\n",
              "    <tr>\n",
              "      <th>34</th>\n",
              "      <td>3 Demons (2022)</td>\n",
              "      <td>https://image.tmdb.org/t/p/w185/7aAcqJjyhim0DW...</td>\n",
              "      <td>IMDb: 4.0</td>\n",
              "      <td>https://ytsyify.live/movie/3-demons-2022/</td>\n",
              "    </tr>\n",
              "    <tr>\n",
              "      <th>35</th>\n",
              "      <td>Orcus (2022)</td>\n",
              "      <td>https://image.tmdb.org/t/p/w185/jHDAcWFw2uhhwW...</td>\n",
              "      <td>IMDb: N/A</td>\n",
              "      <td>https://ytsyify.live/movie/orcus-2022/</td>\n",
              "    </tr>\n",
              "    <tr>\n",
              "      <th>36</th>\n",
              "      <td>The Summoned (2022)</td>\n",
              "      <td>https://image.tmdb.org/t/p/w185/ijPQkXHoAUTDl6...</td>\n",
              "      <td>IMDb: 4.2</td>\n",
              "      <td>https://ytsyify.live/movie/the-summoned-2022/</td>\n",
              "    </tr>\n",
              "    <tr>\n",
              "      <th>37</th>\n",
              "      <td>Mid-Century (2022)</td>\n",
              "      <td>https://image.tmdb.org/t/p/w185/v3twbN3ScvJAHP...</td>\n",
              "      <td>IMDb: 3.3</td>\n",
              "      <td>https://ytsyify.live/movie/mid-century-2022/</td>\n",
              "    </tr>\n",
              "    <tr>\n",
              "      <th>38</th>\n",
              "      <td>American Carnage (2022)</td>\n",
              "      <td>https://image.tmdb.org/t/p/w185/zQmwQqtT2KEfg5...</td>\n",
              "      <td>IMDb: 5.0</td>\n",
              "      <td>https://ytsyify.live/movie/american-carnage-2022/</td>\n",
              "    </tr>\n",
              "    <tr>\n",
              "      <th>39</th>\n",
              "      <td>Glorious (2022)</td>\n",
              "      <td>https://image.tmdb.org/t/p/w185/gttZLC3yhLFx1E...</td>\n",
              "      <td>IMDb: N/A</td>\n",
              "      <td>https://ytsyify.live/movie/glorious-2022/</td>\n",
              "    </tr>\n",
              "  </tbody>\n",
              "</table>\n",
              "</div>"
            ],
            "text/plain": [
              "                              Movie_Name  \\\n",
              "0              Doom: Annihilation (2019)   \n",
              "1                            Doom (2005)   \n",
              "2                    Dog Soldiers (2002)   \n",
              "3   The Curse of All Hallows’ Eve (2017)   \n",
              "4                      The Damned (2013)   \n",
              "5                  The Invitation (2022)   \n",
              "6                Mansion of Blood (2015)   \n",
              "7                 Goodnight Mommy (2022)   \n",
              "8                          Inside (2016)   \n",
              "9                     The Retreat (2021)   \n",
              "10                         Bearry (2021)   \n",
              "11      The Curse of the Werewolf (1961)   \n",
              "12                          Beast (2022)   \n",
              "13                           Prey (2022)   \n",
              "14                   Grizzly Rage (2007)   \n",
              "15                       Slapface (2022)   \n",
              "16              House of Darkness (2022)   \n",
              "17            The Red Book Ritual (2022)   \n",
              "18                     It Hatched (2021)   \n",
              "19                      The Feast (2021)   \n",
              "20                         Saloum (2021)   \n",
              "21      Horror in the High Desert (2021)   \n",
              "22                        Margaux (2022)   \n",
              "23                  The Harbinger (2022)   \n",
              "24                    Tiny Cinema (2022)   \n",
              "25         Something in the Woods (2022)   \n",
              "26                     HollyBlood (2022)   \n",
              "27                           Nope (2022)   \n",
              "28   The Babysitter: Killer Queen (2020)   \n",
              "29                 The Babysitter (2017)   \n",
              "30                            SLR (2022)   \n",
              "31             Orphan: First Kill (2022)   \n",
              "32                     The Cellar (2022)   \n",
              "33                      Allegoria (2022)   \n",
              "34                       3 Demons (2022)   \n",
              "35                          Orcus (2022)   \n",
              "36                   The Summoned (2022)   \n",
              "37                    Mid-Century (2022)   \n",
              "38               American Carnage (2022)   \n",
              "39                       Glorious (2022)   \n",
              "\n",
              "                                           Image_Link IMDB_Ratings  \\\n",
              "0   https://image.tmdb.org/t/p/w185/7EGElXVSNnqcPj...    IMDb: 3.7   \n",
              "1   https://image.tmdb.org/t/p/w185/eVjlW6aOjqEohH...    IMDb: 5.2   \n",
              "2   https://image.tmdb.org/t/p/w185/39B0B9v089W4wy...    IMDb: 6.8   \n",
              "3   https://image.tmdb.org/t/p/w185/aA1jOI27cN9IVi...    IMDb: 4.6   \n",
              "4   https://image.tmdb.org/t/p/w185/jtTlnB7jOfEBiK...    IMDb: 5.2   \n",
              "5   https://image.tmdb.org/t/p/w185/jcTq6gIskCsHlK...    IMDb: 5.4   \n",
              "6   https://image.tmdb.org/t/p/w185/c31XK5G3h8oO9X...    IMDb: 5.1   \n",
              "7   https://image.tmdb.org/t/p/w185/oHhD5jD4S5ElPN...    IMDb: N/A   \n",
              "8   https://image.tmdb.org/t/p/w185/1PSctD5yezkDKl...    IMDb: 4.7   \n",
              "9   https://image.tmdb.org/t/p/w185/xDlc336bLsy9dg...    IMDb: 4.7   \n",
              "10  https://image.tmdb.org/t/p/w185/rjUVnC6itSxUPF...    IMDb: 3.5   \n",
              "11  https://image.tmdb.org/t/p/w185/nwtxrG9jd5ge1n...    IMDb: 6.5   \n",
              "12  https://image.tmdb.org/t/p/w185/kgRQT0Djf6wnYC...    IMDb: N/A   \n",
              "13  https://image.tmdb.org/t/p/w185/w0SmlSPVodSDGt...    IMDb: N/A   \n",
              "14  https://image.tmdb.org/t/p/w185/oKqMtssqFRrLCk...    IMDb: 2.6   \n",
              "15  https://image.tmdb.org/t/p/w185/xFR5TrTfhjaKN2...    IMDb: 5.1   \n",
              "16  https://image.tmdb.org/t/p/w185/zJ6OYkQTmTtFaj...    IMDb: N/A   \n",
              "17  https://image.tmdb.org/t/p/w185/bSUOMkrd63SHKz...    IMDb: N/A   \n",
              "18  https://image.tmdb.org/t/p/w185/mkSlvjwXdyPLCi...    IMDb: N/A   \n",
              "19  https://image.tmdb.org/t/p/w185/7CHTcbtIKuKOzt...    IMDb: N/A   \n",
              "20  https://image.tmdb.org/t/p/w185/yEWO77ClYNqNGM...    IMDb: 6.6   \n",
              "21  https://image.tmdb.org/t/p/w185/s1D5ZGgbxVgQHw...    IMDb: 5.4   \n",
              "22  https://image.tmdb.org/t/p/w185/y3tFfuXn3IoBuf...    IMDb: N/A   \n",
              "23  https://image.tmdb.org/t/p/w185/e7qlOysRTnpNKi...    IMDb: 3.4   \n",
              "24  https://image.tmdb.org/t/p/w185/haymRE8d8rCNol...    IMDb: N/A   \n",
              "25  https://image.tmdb.org/t/p/w185/4Oqw4nTrymhkql...    IMDb: N/A   \n",
              "26  https://image.tmdb.org/t/p/w185/lcFw1XS35ULWwZ...    IMDb: N/A   \n",
              "27  https://image.tmdb.org/t/p/w185/AcKVlWaNVVVFQw...    IMDb: N/A   \n",
              "28  https://image.tmdb.org/t/p/w185/imy1OoT1xddt2k...    IMDb: 5.8   \n",
              "29  https://image.tmdb.org/t/p/w185/86a7GRVRCwfl7w...    IMDb: 6.3   \n",
              "30  https://image.tmdb.org/t/p/w185/mHQDLK9DZ5lULe...    IMDb: N/A   \n",
              "31  https://image.tmdb.org/t/p/w185/cQYfh1jWzeizgJ...    IMDb: 6.0   \n",
              "32  https://image.tmdb.org/t/p/w185/2rlLgZdKC9UhzI...    IMDb: 6.1   \n",
              "33  https://image.tmdb.org/t/p/w185/b8QfIeN7J0Qs0c...    IMDb: N/A   \n",
              "34  https://image.tmdb.org/t/p/w185/7aAcqJjyhim0DW...    IMDb: 4.0   \n",
              "35  https://image.tmdb.org/t/p/w185/jHDAcWFw2uhhwW...    IMDb: N/A   \n",
              "36  https://image.tmdb.org/t/p/w185/ijPQkXHoAUTDl6...    IMDb: 4.2   \n",
              "37  https://image.tmdb.org/t/p/w185/v3twbN3ScvJAHP...    IMDb: 3.3   \n",
              "38  https://image.tmdb.org/t/p/w185/zQmwQqtT2KEfg5...    IMDb: 5.0   \n",
              "39  https://image.tmdb.org/t/p/w185/gttZLC3yhLFx1E...    IMDb: N/A   \n",
              "\n",
              "                                             Download  \n",
              "0   https://ytsyify.live/movie/doom-annihilation-2...  \n",
              "1               https://ytsyify.live/movie/doom-2005/  \n",
              "2       https://ytsyify.live/movie/dog-soldiers-2002/  \n",
              "3   https://ytsyify.live/movie/the-curse-of-all-ha...  \n",
              "4         https://ytsyify.live/movie/the-damned-2013/  \n",
              "5     https://ytsyify.live/movie/the-invitation-2022/  \n",
              "6   https://ytsyify.live/movie/mansion-of-blood-2015/  \n",
              "7    https://ytsyify.live/movie/goodnight-mommy-2022/  \n",
              "8             https://ytsyify.live/movie/inside-2016/  \n",
              "9        https://ytsyify.live/movie/the-retreat-2021/  \n",
              "10            https://ytsyify.live/movie/bearry-2021/  \n",
              "11  https://ytsyify.live/movie/the-curse-of-the-we...  \n",
              "12  https://ytsyify.live/movie/beast-2022-examinto...  \n",
              "13  https://ytsyify.live/movie/prey-2022-examintor...  \n",
              "14      https://ytsyify.live/movie/grizzly-rage-2007/  \n",
              "15          https://ytsyify.live/movie/slapface-2022/  \n",
              "16  https://ytsyify.live/movie/house-of-darkness-2...  \n",
              "17  https://ytsyify.live/movie/the-red-book-ritual...  \n",
              "18        https://ytsyify.live/movie/it-hatched-2021/  \n",
              "19         https://ytsyify.live/movie/the-feast-2021/  \n",
              "20            https://ytsyify.live/movie/saloum-2021/  \n",
              "21  https://ytsyify.live/movie/horror-in-the-high-...  \n",
              "22           https://ytsyify.live/movie/margaux-2022/  \n",
              "23     https://ytsyify.live/movie/the-harbinger-2022/  \n",
              "24       https://ytsyify.live/movie/tiny-cinema-2022/  \n",
              "25  https://ytsyify.live/movie/something-in-the-wo...  \n",
              "26        https://ytsyify.live/movie/hollyblood-2022/  \n",
              "27  https://ytsyify.live/movie/nope-2022-examintor...  \n",
              "28  https://ytsyify.live/movie/the-babysitter-kill...  \n",
              "29    https://ytsyify.live/movie/the-babysitter-2017/  \n",
              "30               https://ytsyify.live/movie/slr-2022/  \n",
              "31  https://ytsyify.live/movie/orphan-first-kill-2...  \n",
              "32  https://ytsyify.live/movie/the-cellar-2022-beg...  \n",
              "33  https://ytsyify.live/movie/allegoria-2022-span...  \n",
              "34          https://ytsyify.live/movie/3-demons-2022/  \n",
              "35             https://ytsyify.live/movie/orcus-2022/  \n",
              "36      https://ytsyify.live/movie/the-summoned-2022/  \n",
              "37       https://ytsyify.live/movie/mid-century-2022/  \n",
              "38  https://ytsyify.live/movie/american-carnage-2022/  \n",
              "39          https://ytsyify.live/movie/glorious-2022/  "
            ]
          },
          "execution_count": 56,
          "metadata": {},
          "output_type": "execute_result"
        }
      ],
      "source": [
        "pandas.read_csv('horror.csv')"
      ]
    },
    {
      "cell_type": "markdown",
      "metadata": {
        "id": "TMy8oCBjkbi9"
      },
      "source": [
        "# Putting_it_all in one_cell_for_a_better_understanding\n",
        "\n",
        "- This to give a better understanding of how the functions are placed one after the other to get the data set.\n",
        "- We fetch the page\n",
        "- we get the contents in the page as doc using bs4(beautifulsoup4)\n",
        "- we get the genre page\n",
        "- we get all the movie data\n",
        "- we write it down t a csv file\n",
        "- in the end we put all the functions under the a single function 'scrape_all_movies' where all the movies are scraped and put   under the table and written in a csv file."
      ]
    },
    {
      "cell_type": "code",
      "execution_count": null,
      "metadata": {
        "id": "I6zriE-Jkbi9"
      },
      "outputs": [],
      "source": [
        "import requests\n",
        "from bs4 import BeautifulSoup\n",
        "url_page = 'https://ytsyify.live/genre/action/'\n",
        "\n",
        "\n",
        "def fetch_page(url_page):\n",
        "   #The fetch_page function will fetch the page contents of the page and return the information as output\n",
        "    response = requests.get(url_page) #this function fecthes the url page\n",
        "    # if response status code is 200  to 299 the it is sucessful page fetch\n",
        "    if response.status_code !=200:\n",
        "        raise Exception('Fetch FAILED')\n",
        "\n",
        "\n",
        "    return response.text\n",
        "\n",
        "def get_docs(page_content):\n",
        "    # this function will take htmla or xml page and return as beautifulsoup doc.\n",
        "    doc = Beautifulsoup(page_content, 'html.parser')\n",
        "    return doc\n",
        "\n",
        "def get_genre_page(topic):\n",
        "    genre_page_url ='https://ytsyify.live/genre/'+ topic\n",
        "    response = requests.get(genre_page_url)\n",
        "    if response.status_code !=200:\n",
        "        print('status code:', response.status_code )\n",
        "        raise Exception('Failed_fetch_page' + genre_page_url)\n",
        "\n",
        "    doc = BeautifulSoup(response.text)\n",
        "\n",
        "    return doc\n",
        "\n",
        "\n",
        "def movie_data(movie_docs):\n",
        "    # This function will extract all the information required and return as dictionary.\n",
        "    movie_name = movie_docs.find('div', class_ ='qtip-title').text\n",
        "    imgs_tag = movie_docs.find('img')['src']\n",
        "    imdb_rating = movie_docs.find('div',class_= 'jt-info jt-imdb').text.strip()\n",
        "    download_link =movie_docs.find('a', class_= 'btn btn-block btn-successful')['href']\n",
        "    return {\n",
        "        'Movie_Name' : movie_name,\n",
        "        'Image_Link' : imgs_tag,\n",
        "        'IMDB_Ratings' : imdb_rating,\n",
        "        'Download' :  download_link\n",
        "    }\n",
        "\n",
        "\n",
        "all_movies = [movie_data(tag) for tag in movie_doc]\n",
        "\n",
        "\n",
        "\n",
        "def get_genre_movie(doc):\n",
        "    # This function will get the data of the latest movies in the page.\n",
        "    movie_doc = doc.find_all('div',class_= 'ml-item' )\n",
        "    all_movies = [movie_data(tag) for tag in movie_doc]\n",
        "    return all_movies\n",
        "\n",
        "headers_ = list(data_romance[0].keys())\n",
        "','.join(headers_) + '\\n'\n",
        "\n",
        "\n",
        "def write_csv(items, path):\n",
        "\n",
        "    with open(path, 'w') as file:          # Open  file in write mode\n",
        "\n",
        "        if len(items) == 0:     # Return if there's nothing to write\n",
        "            return\n",
        "\n",
        "        # Write the headers in the first line\n",
        "        headers = list(items[0].keys())\n",
        "        file.write(','.join(headers) + '\\n')\n",
        "\n",
        "\n",
        "        for item in items:            #Write one item per line\n",
        "            values = []\n",
        "            for header in headers:\n",
        "                values.append(str(item.get(header, \"\")))\n",
        "            file.write(','.join(values) + \"\\n\")\n",
        "\n",
        "def scrape_all_movies(topic, path = None):\n",
        "    #Get the all the movie data from the topic and write to csv file\n",
        "    if path is None:\n",
        "        path = topic +'.csv'\n",
        "    genre_page_doc = get_genre_page(topic)\n",
        "    genre_data = get_genre_movie(genre_page_doc)\n",
        "    write_csv(genre_data,path)\n",
        "    print('The Genre data for the topic\"{}\" write to file \"{}\"'.format(topic,path))\n",
        "    return path"
      ]
    },
    {
      "cell_type": "markdown",
      "metadata": {
        "id": "hJFOq3txkbi-"
      },
      "source": [
        "# References and future work"
      ]
    },
    {
      "cell_type": "markdown",
      "metadata": {
        "id": "-HVU7I8gkbi-"
      },
      "source": [
        "### Summary\n",
        "\n",
        "1. The project scrapes the different movie list from different genre page in yts.live  which provides the name of the latest movies with year, image links, imdb ratings and download links\n",
        "2. Which can be used to either determine the highly rated movies which can be bought out by some ott platforms for telecasting  3. Can be used by the movies critics to give better reviews of the movies.\n",
        "4. Gives a better analysis as a large number of audience still prefer free download sites.\n",
        "5. The is method can also be use to stop piracy to an extent although it is fully not possible.\n",
        "\n",
        "\n",
        "### Future works\n",
        "##### Music and music directors\n",
        "Using the type of musics, the number of plays, the number of likes and from which particular music director and his latest songs we can determine the type of songs the audience prefer and why only that particular music director.\n",
        "##### Fetching product data for competitve pricing\n",
        " we can select top  selling brands of a similar product from the site and do the analysis for competitive pricing and making the sale better.\n",
        "##### Swiggy average food orders analysis.\n",
        "we can select a particular food or a meal or the retaurent and its average orders in a day and give an insight on how to give an offer or pricing for the increase in sale or the orders.\n",
        "\n",
        "\n",
        "### References\n",
        "- Netflix \"www.netflix.com\"\n",
        "- zee5 \"www.zee5.com\"\n",
        "- Amazon Prime \"www.primevideo.com\"\n",
        "- major ott platforms like voot, hotstar etc."
      ]
    },
    {
      "cell_type": "code",
      "execution_count": null,
      "metadata": {
        "id": "ZDszzcE_kbi-"
      },
      "outputs": [],
      "source": [
        "import jovian"
      ]
    },
    {
      "cell_type": "code",
      "execution_count": null,
      "metadata": {
        "id": "JYkuc8p5kbi-",
        "outputId": "38ec1903-b483-4e3a-942f-e84599ff1c5f"
      },
      "outputs": [
        {
          "data": {
            "application/javascript": [
              "window.require && require([\"base/js/namespace\"],function(Jupyter){Jupyter.notebook.save_checkpoint()})"
            ],
            "text/plain": [
              "<IPython.core.display.Javascript object>"
            ]
          },
          "metadata": {},
          "output_type": "display_data"
        }
      ],
      "source": [
        "jovian.commit(project=\"scraping-yts-movies-list\", outputs=['action.csv','romance.csv','horror.csv'])"
      ]
    },
    {
      "cell_type": "code",
      "execution_count": null,
      "metadata": {
        "id": "ckf_norlkbi-",
        "outputId": "693e4038-eb6a-4dad-c90c-9340138eb461"
      },
      "outputs": [
        {
          "ename": "SyntaxError",
          "evalue": "invalid syntax (2830201818.py, line 1)",
          "output_type": "error",
          "traceback": [
            "\u001b[0;36m  File \u001b[0;32m\"/tmp/ipykernel_45/2830201818.py\"\u001b[0;36m, line \u001b[0;32m1\u001b[0m\n\u001b[0;31m    git init\u001b[0m\n\u001b[0m        ^\u001b[0m\n\u001b[0;31mSyntaxError\u001b[0m\u001b[0;31m:\u001b[0m invalid syntax\n"
          ]
        }
      ],
      "source": [
        "git init"
      ]
    },
    {
      "cell_type": "code",
      "execution_count": null,
      "metadata": {
        "id": "Ah88UTGRkbi_"
      },
      "outputs": [],
      "source": []
    }
  ],
  "metadata": {
    "kernelspec": {
      "display_name": "Python 3 (ipykernel)",
      "language": "python",
      "name": "python3"
    },
    "language_info": {
      "codemirror_mode": {
        "name": "ipython",
        "version": 3
      },
      "file_extension": ".py",
      "mimetype": "text/x-python",
      "name": "python",
      "nbconvert_exporter": "python",
      "pygments_lexer": "ipython3",
      "version": "3.9.7"
    },
    "colab": {
      "provenance": [],
      "include_colab_link": true
    }
  },
  "nbformat": 4,
  "nbformat_minor": 0
}